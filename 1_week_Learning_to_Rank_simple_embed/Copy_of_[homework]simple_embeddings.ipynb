{
  "nbformat": 4,
  "nbformat_minor": 0,
  "metadata": {
    "kernelspec": {
      "display_name": "Python 3",
      "language": "python",
      "name": "python3"
    },
    "language_info": {
      "codemirror_mode": {
        "name": "ipython",
        "version": 3
      },
      "file_extension": ".py",
      "mimetype": "text/x-python",
      "name": "python",
      "nbconvert_exporter": "python",
      "pygments_lexer": "ipython3",
      "version": "3.7.2"
    },
    "colab": {
      "name": "Copy of [homework]simple_embeddings.ipynb",
      "provenance": [],
      "collapsed_sections": [
        "BIWqBuEa6j0b",
        "0sUSxk866j1_"
      ]
    },
    "widgets": {
      "application/vnd.jupyter.widget-state+json": {
        "0160a1fb01184c839386f6e74d6b1226": {
          "model_module": "@jupyter-widgets/controls",
          "model_name": "HBoxModel",
          "model_module_version": "1.5.0",
          "state": {
            "_view_name": "HBoxView",
            "_dom_classes": [],
            "_model_name": "HBoxModel",
            "_view_module": "@jupyter-widgets/controls",
            "_model_module_version": "1.5.0",
            "_view_count": null,
            "_view_module_version": "1.5.0",
            "box_style": "",
            "layout": "IPY_MODEL_71abc6c9f80842beb95be92c8e2273a5",
            "_model_module": "@jupyter-widgets/controls",
            "children": [
              "IPY_MODEL_f19a90e7682e4917a7d461bc11be2e1a",
              "IPY_MODEL_0098291f20a14e898eb91c56af89fe3e",
              "IPY_MODEL_8daffd44eafb462a848402615f3b8476"
            ]
          }
        },
        "71abc6c9f80842beb95be92c8e2273a5": {
          "model_module": "@jupyter-widgets/base",
          "model_name": "LayoutModel",
          "model_module_version": "1.2.0",
          "state": {
            "_view_name": "LayoutView",
            "grid_template_rows": null,
            "right": null,
            "justify_content": null,
            "_view_module": "@jupyter-widgets/base",
            "overflow": null,
            "_model_module_version": "1.2.0",
            "_view_count": null,
            "flex_flow": null,
            "width": null,
            "min_width": null,
            "border": null,
            "align_items": null,
            "bottom": null,
            "_model_module": "@jupyter-widgets/base",
            "top": null,
            "grid_column": null,
            "overflow_y": null,
            "overflow_x": null,
            "grid_auto_flow": null,
            "grid_area": null,
            "grid_template_columns": null,
            "flex": null,
            "_model_name": "LayoutModel",
            "justify_items": null,
            "grid_row": null,
            "max_height": null,
            "align_content": null,
            "visibility": null,
            "align_self": null,
            "height": null,
            "min_height": null,
            "padding": null,
            "grid_auto_rows": null,
            "grid_gap": null,
            "max_width": null,
            "order": null,
            "_view_module_version": "1.2.0",
            "grid_template_areas": null,
            "object_position": null,
            "object_fit": null,
            "grid_auto_columns": null,
            "margin": null,
            "display": null,
            "left": null
          }
        },
        "f19a90e7682e4917a7d461bc11be2e1a": {
          "model_module": "@jupyter-widgets/controls",
          "model_name": "HTMLModel",
          "model_module_version": "1.5.0",
          "state": {
            "_view_name": "HTMLView",
            "style": "IPY_MODEL_b39c0bbb43aa4cd1be28d1497d44fe83",
            "_dom_classes": [],
            "description": "",
            "_model_name": "HTMLModel",
            "placeholder": "​",
            "_view_module": "@jupyter-widgets/controls",
            "_model_module_version": "1.5.0",
            "value": " 27%",
            "_view_count": null,
            "_view_module_version": "1.5.0",
            "description_tooltip": null,
            "_model_module": "@jupyter-widgets/controls",
            "layout": "IPY_MODEL_869910412ac94e48b0b0fd888cf49e1e"
          }
        },
        "0098291f20a14e898eb91c56af89fe3e": {
          "model_module": "@jupyter-widgets/controls",
          "model_name": "FloatProgressModel",
          "model_module_version": "1.5.0",
          "state": {
            "_view_name": "ProgressView",
            "style": "IPY_MODEL_af5c17a6c7a645ada4e0dbcb69317e4f",
            "_dom_classes": [],
            "description": "",
            "_model_name": "FloatProgressModel",
            "bar_style": "danger",
            "max": 3760,
            "_view_module": "@jupyter-widgets/controls",
            "_model_module_version": "1.5.0",
            "value": 1000,
            "_view_count": null,
            "_view_module_version": "1.5.0",
            "orientation": "horizontal",
            "min": 0,
            "description_tooltip": null,
            "_model_module": "@jupyter-widgets/controls",
            "layout": "IPY_MODEL_c1a01ceae3c44555b3adfbbd646fa787"
          }
        },
        "8daffd44eafb462a848402615f3b8476": {
          "model_module": "@jupyter-widgets/controls",
          "model_name": "HTMLModel",
          "model_module_version": "1.5.0",
          "state": {
            "_view_name": "HTMLView",
            "style": "IPY_MODEL_33229bc120344f5891856e593ee6acec",
            "_dom_classes": [],
            "description": "",
            "_model_name": "HTMLModel",
            "placeholder": "​",
            "_view_module": "@jupyter-widgets/controls",
            "_model_module_version": "1.5.0",
            "value": " 1000/3760 [04:49&lt;13:26,  3.42it/s]",
            "_view_count": null,
            "_view_module_version": "1.5.0",
            "description_tooltip": null,
            "_model_module": "@jupyter-widgets/controls",
            "layout": "IPY_MODEL_ecafeac4a6234faaa7bd54d4efcaca7c"
          }
        },
        "b39c0bbb43aa4cd1be28d1497d44fe83": {
          "model_module": "@jupyter-widgets/controls",
          "model_name": "DescriptionStyleModel",
          "model_module_version": "1.5.0",
          "state": {
            "_view_name": "StyleView",
            "_model_name": "DescriptionStyleModel",
            "description_width": "",
            "_view_module": "@jupyter-widgets/base",
            "_model_module_version": "1.5.0",
            "_view_count": null,
            "_view_module_version": "1.2.0",
            "_model_module": "@jupyter-widgets/controls"
          }
        },
        "869910412ac94e48b0b0fd888cf49e1e": {
          "model_module": "@jupyter-widgets/base",
          "model_name": "LayoutModel",
          "model_module_version": "1.2.0",
          "state": {
            "_view_name": "LayoutView",
            "grid_template_rows": null,
            "right": null,
            "justify_content": null,
            "_view_module": "@jupyter-widgets/base",
            "overflow": null,
            "_model_module_version": "1.2.0",
            "_view_count": null,
            "flex_flow": null,
            "width": null,
            "min_width": null,
            "border": null,
            "align_items": null,
            "bottom": null,
            "_model_module": "@jupyter-widgets/base",
            "top": null,
            "grid_column": null,
            "overflow_y": null,
            "overflow_x": null,
            "grid_auto_flow": null,
            "grid_area": null,
            "grid_template_columns": null,
            "flex": null,
            "_model_name": "LayoutModel",
            "justify_items": null,
            "grid_row": null,
            "max_height": null,
            "align_content": null,
            "visibility": null,
            "align_self": null,
            "height": null,
            "min_height": null,
            "padding": null,
            "grid_auto_rows": null,
            "grid_gap": null,
            "max_width": null,
            "order": null,
            "_view_module_version": "1.2.0",
            "grid_template_areas": null,
            "object_position": null,
            "object_fit": null,
            "grid_auto_columns": null,
            "margin": null,
            "display": null,
            "left": null
          }
        },
        "af5c17a6c7a645ada4e0dbcb69317e4f": {
          "model_module": "@jupyter-widgets/controls",
          "model_name": "ProgressStyleModel",
          "model_module_version": "1.5.0",
          "state": {
            "_view_name": "StyleView",
            "_model_name": "ProgressStyleModel",
            "description_width": "",
            "_view_module": "@jupyter-widgets/base",
            "_model_module_version": "1.5.0",
            "_view_count": null,
            "_view_module_version": "1.2.0",
            "bar_color": null,
            "_model_module": "@jupyter-widgets/controls"
          }
        },
        "c1a01ceae3c44555b3adfbbd646fa787": {
          "model_module": "@jupyter-widgets/base",
          "model_name": "LayoutModel",
          "model_module_version": "1.2.0",
          "state": {
            "_view_name": "LayoutView",
            "grid_template_rows": null,
            "right": null,
            "justify_content": null,
            "_view_module": "@jupyter-widgets/base",
            "overflow": null,
            "_model_module_version": "1.2.0",
            "_view_count": null,
            "flex_flow": null,
            "width": null,
            "min_width": null,
            "border": null,
            "align_items": null,
            "bottom": null,
            "_model_module": "@jupyter-widgets/base",
            "top": null,
            "grid_column": null,
            "overflow_y": null,
            "overflow_x": null,
            "grid_auto_flow": null,
            "grid_area": null,
            "grid_template_columns": null,
            "flex": null,
            "_model_name": "LayoutModel",
            "justify_items": null,
            "grid_row": null,
            "max_height": null,
            "align_content": null,
            "visibility": null,
            "align_self": null,
            "height": null,
            "min_height": null,
            "padding": null,
            "grid_auto_rows": null,
            "grid_gap": null,
            "max_width": null,
            "order": null,
            "_view_module_version": "1.2.0",
            "grid_template_areas": null,
            "object_position": null,
            "object_fit": null,
            "grid_auto_columns": null,
            "margin": null,
            "display": null,
            "left": null
          }
        },
        "33229bc120344f5891856e593ee6acec": {
          "model_module": "@jupyter-widgets/controls",
          "model_name": "DescriptionStyleModel",
          "model_module_version": "1.5.0",
          "state": {
            "_view_name": "StyleView",
            "_model_name": "DescriptionStyleModel",
            "description_width": "",
            "_view_module": "@jupyter-widgets/base",
            "_model_module_version": "1.5.0",
            "_view_count": null,
            "_view_module_version": "1.2.0",
            "_model_module": "@jupyter-widgets/controls"
          }
        },
        "ecafeac4a6234faaa7bd54d4efcaca7c": {
          "model_module": "@jupyter-widgets/base",
          "model_name": "LayoutModel",
          "model_module_version": "1.2.0",
          "state": {
            "_view_name": "LayoutView",
            "grid_template_rows": null,
            "right": null,
            "justify_content": null,
            "_view_module": "@jupyter-widgets/base",
            "overflow": null,
            "_model_module_version": "1.2.0",
            "_view_count": null,
            "flex_flow": null,
            "width": null,
            "min_width": null,
            "border": null,
            "align_items": null,
            "bottom": null,
            "_model_module": "@jupyter-widgets/base",
            "top": null,
            "grid_column": null,
            "overflow_y": null,
            "overflow_x": null,
            "grid_auto_flow": null,
            "grid_area": null,
            "grid_template_columns": null,
            "flex": null,
            "_model_name": "LayoutModel",
            "justify_items": null,
            "grid_row": null,
            "max_height": null,
            "align_content": null,
            "visibility": null,
            "align_self": null,
            "height": null,
            "min_height": null,
            "padding": null,
            "grid_auto_rows": null,
            "grid_gap": null,
            "max_width": null,
            "order": null,
            "_view_module_version": "1.2.0",
            "grid_template_areas": null,
            "object_position": null,
            "object_fit": null,
            "grid_auto_columns": null,
            "margin": null,
            "display": null,
            "left": null
          }
        },
        "b0d1b1c0126b43729dcb797da2ade343": {
          "model_module": "@jupyter-widgets/controls",
          "model_name": "HBoxModel",
          "model_module_version": "1.5.0",
          "state": {
            "_view_name": "HBoxView",
            "_dom_classes": [],
            "_model_name": "HBoxModel",
            "_view_module": "@jupyter-widgets/controls",
            "_model_module_version": "1.5.0",
            "_view_count": null,
            "_view_module_version": "1.5.0",
            "box_style": "",
            "layout": "IPY_MODEL_f354ec07a74c412a9fa8320cd5427ec7",
            "_model_module": "@jupyter-widgets/controls",
            "children": [
              "IPY_MODEL_e2617545fe4a4dba8b42fd2d70d78d49",
              "IPY_MODEL_783ee6c612504179a607d78ef9855b46",
              "IPY_MODEL_832ca20b0e184c6eb7ca6d5838fe0373"
            ]
          }
        },
        "f354ec07a74c412a9fa8320cd5427ec7": {
          "model_module": "@jupyter-widgets/base",
          "model_name": "LayoutModel",
          "model_module_version": "1.2.0",
          "state": {
            "_view_name": "LayoutView",
            "grid_template_rows": null,
            "right": null,
            "justify_content": null,
            "_view_module": "@jupyter-widgets/base",
            "overflow": null,
            "_model_module_version": "1.2.0",
            "_view_count": null,
            "flex_flow": null,
            "width": null,
            "min_width": null,
            "border": null,
            "align_items": null,
            "bottom": null,
            "_model_module": "@jupyter-widgets/base",
            "top": null,
            "grid_column": null,
            "overflow_y": null,
            "overflow_x": null,
            "grid_auto_flow": null,
            "grid_area": null,
            "grid_template_columns": null,
            "flex": null,
            "_model_name": "LayoutModel",
            "justify_items": null,
            "grid_row": null,
            "max_height": null,
            "align_content": null,
            "visibility": null,
            "align_self": null,
            "height": null,
            "min_height": null,
            "padding": null,
            "grid_auto_rows": null,
            "grid_gap": null,
            "max_width": null,
            "order": null,
            "_view_module_version": "1.2.0",
            "grid_template_areas": null,
            "object_position": null,
            "object_fit": null,
            "grid_auto_columns": null,
            "margin": null,
            "display": null,
            "left": null
          }
        },
        "e2617545fe4a4dba8b42fd2d70d78d49": {
          "model_module": "@jupyter-widgets/controls",
          "model_name": "HTMLModel",
          "model_module_version": "1.5.0",
          "state": {
            "_view_name": "HTMLView",
            "style": "IPY_MODEL_8a10c763bddc4a7d93ffcba7f875a912",
            "_dom_classes": [],
            "description": "",
            "_model_name": "HTMLModel",
            "placeholder": "​",
            "_view_module": "@jupyter-widgets/controls",
            "_model_module_version": "1.5.0",
            "value": "100%",
            "_view_count": null,
            "_view_module_version": "1.5.0",
            "description_tooltip": null,
            "_model_module": "@jupyter-widgets/controls",
            "layout": "IPY_MODEL_26f942373ba746fc9f543ded05e92b99"
          }
        },
        "783ee6c612504179a607d78ef9855b46": {
          "model_module": "@jupyter-widgets/controls",
          "model_name": "FloatProgressModel",
          "model_module_version": "1.5.0",
          "state": {
            "_view_name": "ProgressView",
            "style": "IPY_MODEL_7a214f0fd59a4fa2b58a01617ffc145c",
            "_dom_classes": [],
            "description": "",
            "_model_name": "FloatProgressModel",
            "bar_style": "success",
            "max": 6,
            "_view_module": "@jupyter-widgets/controls",
            "_model_module_version": "1.5.0",
            "value": 6,
            "_view_count": null,
            "_view_module_version": "1.5.0",
            "orientation": "horizontal",
            "min": 0,
            "description_tooltip": null,
            "_model_module": "@jupyter-widgets/controls",
            "layout": "IPY_MODEL_9bcb2ee03de245c184149b78daacfb03"
          }
        },
        "832ca20b0e184c6eb7ca6d5838fe0373": {
          "model_module": "@jupyter-widgets/controls",
          "model_name": "HTMLModel",
          "model_module_version": "1.5.0",
          "state": {
            "_view_name": "HTMLView",
            "style": "IPY_MODEL_b647fa634b084d83b3dd606f77e30d23",
            "_dom_classes": [],
            "description": "",
            "_model_name": "HTMLModel",
            "placeholder": "​",
            "_view_module": "@jupyter-widgets/controls",
            "_model_module_version": "1.5.0",
            "value": " 6/6 [00:00&lt;00:00, 65.61it/s]",
            "_view_count": null,
            "_view_module_version": "1.5.0",
            "description_tooltip": null,
            "_model_module": "@jupyter-widgets/controls",
            "layout": "IPY_MODEL_6ad9048c52de4a3bbcf7718cf672ea48"
          }
        },
        "8a10c763bddc4a7d93ffcba7f875a912": {
          "model_module": "@jupyter-widgets/controls",
          "model_name": "DescriptionStyleModel",
          "model_module_version": "1.5.0",
          "state": {
            "_view_name": "StyleView",
            "_model_name": "DescriptionStyleModel",
            "description_width": "",
            "_view_module": "@jupyter-widgets/base",
            "_model_module_version": "1.5.0",
            "_view_count": null,
            "_view_module_version": "1.2.0",
            "_model_module": "@jupyter-widgets/controls"
          }
        },
        "26f942373ba746fc9f543ded05e92b99": {
          "model_module": "@jupyter-widgets/base",
          "model_name": "LayoutModel",
          "model_module_version": "1.2.0",
          "state": {
            "_view_name": "LayoutView",
            "grid_template_rows": null,
            "right": null,
            "justify_content": null,
            "_view_module": "@jupyter-widgets/base",
            "overflow": null,
            "_model_module_version": "1.2.0",
            "_view_count": null,
            "flex_flow": null,
            "width": null,
            "min_width": null,
            "border": null,
            "align_items": null,
            "bottom": null,
            "_model_module": "@jupyter-widgets/base",
            "top": null,
            "grid_column": null,
            "overflow_y": null,
            "overflow_x": null,
            "grid_auto_flow": null,
            "grid_area": null,
            "grid_template_columns": null,
            "flex": null,
            "_model_name": "LayoutModel",
            "justify_items": null,
            "grid_row": null,
            "max_height": null,
            "align_content": null,
            "visibility": null,
            "align_self": null,
            "height": null,
            "min_height": null,
            "padding": null,
            "grid_auto_rows": null,
            "grid_gap": null,
            "max_width": null,
            "order": null,
            "_view_module_version": "1.2.0",
            "grid_template_areas": null,
            "object_position": null,
            "object_fit": null,
            "grid_auto_columns": null,
            "margin": null,
            "display": null,
            "left": null
          }
        },
        "7a214f0fd59a4fa2b58a01617ffc145c": {
          "model_module": "@jupyter-widgets/controls",
          "model_name": "ProgressStyleModel",
          "model_module_version": "1.5.0",
          "state": {
            "_view_name": "StyleView",
            "_model_name": "ProgressStyleModel",
            "description_width": "",
            "_view_module": "@jupyter-widgets/base",
            "_model_module_version": "1.5.0",
            "_view_count": null,
            "_view_module_version": "1.2.0",
            "bar_color": null,
            "_model_module": "@jupyter-widgets/controls"
          }
        },
        "9bcb2ee03de245c184149b78daacfb03": {
          "model_module": "@jupyter-widgets/base",
          "model_name": "LayoutModel",
          "model_module_version": "1.2.0",
          "state": {
            "_view_name": "LayoutView",
            "grid_template_rows": null,
            "right": null,
            "justify_content": null,
            "_view_module": "@jupyter-widgets/base",
            "overflow": null,
            "_model_module_version": "1.2.0",
            "_view_count": null,
            "flex_flow": null,
            "width": null,
            "min_width": null,
            "border": null,
            "align_items": null,
            "bottom": null,
            "_model_module": "@jupyter-widgets/base",
            "top": null,
            "grid_column": null,
            "overflow_y": null,
            "overflow_x": null,
            "grid_auto_flow": null,
            "grid_area": null,
            "grid_template_columns": null,
            "flex": null,
            "_model_name": "LayoutModel",
            "justify_items": null,
            "grid_row": null,
            "max_height": null,
            "align_content": null,
            "visibility": null,
            "align_self": null,
            "height": null,
            "min_height": null,
            "padding": null,
            "grid_auto_rows": null,
            "grid_gap": null,
            "max_width": null,
            "order": null,
            "_view_module_version": "1.2.0",
            "grid_template_areas": null,
            "object_position": null,
            "object_fit": null,
            "grid_auto_columns": null,
            "margin": null,
            "display": null,
            "left": null
          }
        },
        "b647fa634b084d83b3dd606f77e30d23": {
          "model_module": "@jupyter-widgets/controls",
          "model_name": "DescriptionStyleModel",
          "model_module_version": "1.5.0",
          "state": {
            "_view_name": "StyleView",
            "_model_name": "DescriptionStyleModel",
            "description_width": "",
            "_view_module": "@jupyter-widgets/base",
            "_model_module_version": "1.5.0",
            "_view_count": null,
            "_view_module_version": "1.2.0",
            "_model_module": "@jupyter-widgets/controls"
          }
        },
        "6ad9048c52de4a3bbcf7718cf672ea48": {
          "model_module": "@jupyter-widgets/base",
          "model_name": "LayoutModel",
          "model_module_version": "1.2.0",
          "state": {
            "_view_name": "LayoutView",
            "grid_template_rows": null,
            "right": null,
            "justify_content": null,
            "_view_module": "@jupyter-widgets/base",
            "overflow": null,
            "_model_module_version": "1.2.0",
            "_view_count": null,
            "flex_flow": null,
            "width": null,
            "min_width": null,
            "border": null,
            "align_items": null,
            "bottom": null,
            "_model_module": "@jupyter-widgets/base",
            "top": null,
            "grid_column": null,
            "overflow_y": null,
            "overflow_x": null,
            "grid_auto_flow": null,
            "grid_area": null,
            "grid_template_columns": null,
            "flex": null,
            "_model_name": "LayoutModel",
            "justify_items": null,
            "grid_row": null,
            "max_height": null,
            "align_content": null,
            "visibility": null,
            "align_self": null,
            "height": null,
            "min_height": null,
            "padding": null,
            "grid_auto_rows": null,
            "grid_gap": null,
            "max_width": null,
            "order": null,
            "_view_module_version": "1.2.0",
            "grid_template_areas": null,
            "object_position": null,
            "object_fit": null,
            "grid_auto_columns": null,
            "margin": null,
            "display": null,
            "left": null
          }
        },
        "c3b1b519b96b4cb8812f514cad06ae11": {
          "model_module": "@jupyter-widgets/controls",
          "model_name": "HBoxModel",
          "model_module_version": "1.5.0",
          "state": {
            "_view_name": "HBoxView",
            "_dom_classes": [],
            "_model_name": "HBoxModel",
            "_view_module": "@jupyter-widgets/controls",
            "_model_module_version": "1.5.0",
            "_view_count": null,
            "_view_module_version": "1.5.0",
            "box_style": "",
            "layout": "IPY_MODEL_a5d3308b41674e64b7f8eb81faa308e6",
            "_model_module": "@jupyter-widgets/controls",
            "children": [
              "IPY_MODEL_edd8a531c7ce41aebda5e415100800a6",
              "IPY_MODEL_d5c90ea5552e485fb3dcfcb6ff263785",
              "IPY_MODEL_0f18f6a70ccc4822bec8844bd8fb8b7c"
            ]
          }
        },
        "a5d3308b41674e64b7f8eb81faa308e6": {
          "model_module": "@jupyter-widgets/base",
          "model_name": "LayoutModel",
          "model_module_version": "1.2.0",
          "state": {
            "_view_name": "LayoutView",
            "grid_template_rows": null,
            "right": null,
            "justify_content": null,
            "_view_module": "@jupyter-widgets/base",
            "overflow": null,
            "_model_module_version": "1.2.0",
            "_view_count": null,
            "flex_flow": null,
            "width": null,
            "min_width": null,
            "border": null,
            "align_items": null,
            "bottom": null,
            "_model_module": "@jupyter-widgets/base",
            "top": null,
            "grid_column": null,
            "overflow_y": null,
            "overflow_x": null,
            "grid_auto_flow": null,
            "grid_area": null,
            "grid_template_columns": null,
            "flex": null,
            "_model_name": "LayoutModel",
            "justify_items": null,
            "grid_row": null,
            "max_height": null,
            "align_content": null,
            "visibility": null,
            "align_self": null,
            "height": null,
            "min_height": null,
            "padding": null,
            "grid_auto_rows": null,
            "grid_gap": null,
            "max_width": null,
            "order": null,
            "_view_module_version": "1.2.0",
            "grid_template_areas": null,
            "object_position": null,
            "object_fit": null,
            "grid_auto_columns": null,
            "margin": null,
            "display": null,
            "left": null
          }
        },
        "edd8a531c7ce41aebda5e415100800a6": {
          "model_module": "@jupyter-widgets/controls",
          "model_name": "HTMLModel",
          "model_module_version": "1.5.0",
          "state": {
            "_view_name": "HTMLView",
            "style": "IPY_MODEL_3c6d3f4eeb504bfd8fcf10ddac9a0e72",
            "_dom_classes": [],
            "description": "",
            "_model_name": "HTMLModel",
            "placeholder": "​",
            "_view_module": "@jupyter-widgets/controls",
            "_model_module_version": "1.5.0",
            "value": " 27%",
            "_view_count": null,
            "_view_module_version": "1.5.0",
            "description_tooltip": null,
            "_model_module": "@jupyter-widgets/controls",
            "layout": "IPY_MODEL_8521710215714c29a07b13211e2a9006"
          }
        },
        "d5c90ea5552e485fb3dcfcb6ff263785": {
          "model_module": "@jupyter-widgets/controls",
          "model_name": "FloatProgressModel",
          "model_module_version": "1.5.0",
          "state": {
            "_view_name": "ProgressView",
            "style": "IPY_MODEL_1b7c12e9d25d419981fb1039f6ee15ad",
            "_dom_classes": [],
            "description": "",
            "_model_name": "FloatProgressModel",
            "bar_style": "danger",
            "max": 3760,
            "_view_module": "@jupyter-widgets/controls",
            "_model_module_version": "1.5.0",
            "value": 1000,
            "_view_count": null,
            "_view_module_version": "1.5.0",
            "orientation": "horizontal",
            "min": 0,
            "description_tooltip": null,
            "_model_module": "@jupyter-widgets/controls",
            "layout": "IPY_MODEL_6803b8e6bb5e443a96c7f5deb8a9f3eb"
          }
        },
        "0f18f6a70ccc4822bec8844bd8fb8b7c": {
          "model_module": "@jupyter-widgets/controls",
          "model_name": "HTMLModel",
          "model_module_version": "1.5.0",
          "state": {
            "_view_name": "HTMLView",
            "style": "IPY_MODEL_1e02749b9e6942808cf004e47431ca08",
            "_dom_classes": [],
            "description": "",
            "_model_name": "HTMLModel",
            "placeholder": "​",
            "_view_module": "@jupyter-widgets/controls",
            "_model_module_version": "1.5.0",
            "value": " 1000/3760 [04:49&lt;12:49,  3.59it/s]",
            "_view_count": null,
            "_view_module_version": "1.5.0",
            "description_tooltip": null,
            "_model_module": "@jupyter-widgets/controls",
            "layout": "IPY_MODEL_75706c149beb451b99f1d576e2cf553e"
          }
        },
        "3c6d3f4eeb504bfd8fcf10ddac9a0e72": {
          "model_module": "@jupyter-widgets/controls",
          "model_name": "DescriptionStyleModel",
          "model_module_version": "1.5.0",
          "state": {
            "_view_name": "StyleView",
            "_model_name": "DescriptionStyleModel",
            "description_width": "",
            "_view_module": "@jupyter-widgets/base",
            "_model_module_version": "1.5.0",
            "_view_count": null,
            "_view_module_version": "1.2.0",
            "_model_module": "@jupyter-widgets/controls"
          }
        },
        "8521710215714c29a07b13211e2a9006": {
          "model_module": "@jupyter-widgets/base",
          "model_name": "LayoutModel",
          "model_module_version": "1.2.0",
          "state": {
            "_view_name": "LayoutView",
            "grid_template_rows": null,
            "right": null,
            "justify_content": null,
            "_view_module": "@jupyter-widgets/base",
            "overflow": null,
            "_model_module_version": "1.2.0",
            "_view_count": null,
            "flex_flow": null,
            "width": null,
            "min_width": null,
            "border": null,
            "align_items": null,
            "bottom": null,
            "_model_module": "@jupyter-widgets/base",
            "top": null,
            "grid_column": null,
            "overflow_y": null,
            "overflow_x": null,
            "grid_auto_flow": null,
            "grid_area": null,
            "grid_template_columns": null,
            "flex": null,
            "_model_name": "LayoutModel",
            "justify_items": null,
            "grid_row": null,
            "max_height": null,
            "align_content": null,
            "visibility": null,
            "align_self": null,
            "height": null,
            "min_height": null,
            "padding": null,
            "grid_auto_rows": null,
            "grid_gap": null,
            "max_width": null,
            "order": null,
            "_view_module_version": "1.2.0",
            "grid_template_areas": null,
            "object_position": null,
            "object_fit": null,
            "grid_auto_columns": null,
            "margin": null,
            "display": null,
            "left": null
          }
        },
        "1b7c12e9d25d419981fb1039f6ee15ad": {
          "model_module": "@jupyter-widgets/controls",
          "model_name": "ProgressStyleModel",
          "model_module_version": "1.5.0",
          "state": {
            "_view_name": "StyleView",
            "_model_name": "ProgressStyleModel",
            "description_width": "",
            "_view_module": "@jupyter-widgets/base",
            "_model_module_version": "1.5.0",
            "_view_count": null,
            "_view_module_version": "1.2.0",
            "bar_color": null,
            "_model_module": "@jupyter-widgets/controls"
          }
        },
        "6803b8e6bb5e443a96c7f5deb8a9f3eb": {
          "model_module": "@jupyter-widgets/base",
          "model_name": "LayoutModel",
          "model_module_version": "1.2.0",
          "state": {
            "_view_name": "LayoutView",
            "grid_template_rows": null,
            "right": null,
            "justify_content": null,
            "_view_module": "@jupyter-widgets/base",
            "overflow": null,
            "_model_module_version": "1.2.0",
            "_view_count": null,
            "flex_flow": null,
            "width": null,
            "min_width": null,
            "border": null,
            "align_items": null,
            "bottom": null,
            "_model_module": "@jupyter-widgets/base",
            "top": null,
            "grid_column": null,
            "overflow_y": null,
            "overflow_x": null,
            "grid_auto_flow": null,
            "grid_area": null,
            "grid_template_columns": null,
            "flex": null,
            "_model_name": "LayoutModel",
            "justify_items": null,
            "grid_row": null,
            "max_height": null,
            "align_content": null,
            "visibility": null,
            "align_self": null,
            "height": null,
            "min_height": null,
            "padding": null,
            "grid_auto_rows": null,
            "grid_gap": null,
            "max_width": null,
            "order": null,
            "_view_module_version": "1.2.0",
            "grid_template_areas": null,
            "object_position": null,
            "object_fit": null,
            "grid_auto_columns": null,
            "margin": null,
            "display": null,
            "left": null
          }
        },
        "1e02749b9e6942808cf004e47431ca08": {
          "model_module": "@jupyter-widgets/controls",
          "model_name": "DescriptionStyleModel",
          "model_module_version": "1.5.0",
          "state": {
            "_view_name": "StyleView",
            "_model_name": "DescriptionStyleModel",
            "description_width": "",
            "_view_module": "@jupyter-widgets/base",
            "_model_module_version": "1.5.0",
            "_view_count": null,
            "_view_module_version": "1.2.0",
            "_model_module": "@jupyter-widgets/controls"
          }
        },
        "75706c149beb451b99f1d576e2cf553e": {
          "model_module": "@jupyter-widgets/base",
          "model_name": "LayoutModel",
          "model_module_version": "1.2.0",
          "state": {
            "_view_name": "LayoutView",
            "grid_template_rows": null,
            "right": null,
            "justify_content": null,
            "_view_module": "@jupyter-widgets/base",
            "overflow": null,
            "_model_module_version": "1.2.0",
            "_view_count": null,
            "flex_flow": null,
            "width": null,
            "min_width": null,
            "border": null,
            "align_items": null,
            "bottom": null,
            "_model_module": "@jupyter-widgets/base",
            "top": null,
            "grid_column": null,
            "overflow_y": null,
            "overflow_x": null,
            "grid_auto_flow": null,
            "grid_area": null,
            "grid_template_columns": null,
            "flex": null,
            "_model_name": "LayoutModel",
            "justify_items": null,
            "grid_row": null,
            "max_height": null,
            "align_content": null,
            "visibility": null,
            "align_self": null,
            "height": null,
            "min_height": null,
            "padding": null,
            "grid_auto_rows": null,
            "grid_gap": null,
            "max_width": null,
            "order": null,
            "_view_module_version": "1.2.0",
            "grid_template_areas": null,
            "object_position": null,
            "object_fit": null,
            "grid_auto_columns": null,
            "margin": null,
            "display": null,
            "left": null
          }
        },
        "729814bdd58b43209efcc5b0209a0311": {
          "model_module": "@jupyter-widgets/controls",
          "model_name": "HBoxModel",
          "model_module_version": "1.5.0",
          "state": {
            "_view_name": "HBoxView",
            "_dom_classes": [],
            "_model_name": "HBoxModel",
            "_view_module": "@jupyter-widgets/controls",
            "_model_module_version": "1.5.0",
            "_view_count": null,
            "_view_module_version": "1.5.0",
            "box_style": "",
            "layout": "IPY_MODEL_cf9db340d5fd4c8fb0a1714de6b1e4e2",
            "_model_module": "@jupyter-widgets/controls",
            "children": [
              "IPY_MODEL_4ef1b5dbbb9249f7a58ed12b60a878ca",
              "IPY_MODEL_28e7d4ba2b3c4c4f956468b08d469458",
              "IPY_MODEL_8b81bfee3ef14b668e27d361b81a189d"
            ]
          }
        },
        "cf9db340d5fd4c8fb0a1714de6b1e4e2": {
          "model_module": "@jupyter-widgets/base",
          "model_name": "LayoutModel",
          "model_module_version": "1.2.0",
          "state": {
            "_view_name": "LayoutView",
            "grid_template_rows": null,
            "right": null,
            "justify_content": null,
            "_view_module": "@jupyter-widgets/base",
            "overflow": null,
            "_model_module_version": "1.2.0",
            "_view_count": null,
            "flex_flow": null,
            "width": null,
            "min_width": null,
            "border": null,
            "align_items": null,
            "bottom": null,
            "_model_module": "@jupyter-widgets/base",
            "top": null,
            "grid_column": null,
            "overflow_y": null,
            "overflow_x": null,
            "grid_auto_flow": null,
            "grid_area": null,
            "grid_template_columns": null,
            "flex": null,
            "_model_name": "LayoutModel",
            "justify_items": null,
            "grid_row": null,
            "max_height": null,
            "align_content": null,
            "visibility": null,
            "align_self": null,
            "height": null,
            "min_height": null,
            "padding": null,
            "grid_auto_rows": null,
            "grid_gap": null,
            "max_width": null,
            "order": null,
            "_view_module_version": "1.2.0",
            "grid_template_areas": null,
            "object_position": null,
            "object_fit": null,
            "grid_auto_columns": null,
            "margin": null,
            "display": null,
            "left": null
          }
        },
        "4ef1b5dbbb9249f7a58ed12b60a878ca": {
          "model_module": "@jupyter-widgets/controls",
          "model_name": "HTMLModel",
          "model_module_version": "1.5.0",
          "state": {
            "_view_name": "HTMLView",
            "style": "IPY_MODEL_203bcb4358094e5784bfd0468d603dc5",
            "_dom_classes": [],
            "description": "",
            "_model_name": "HTMLModel",
            "placeholder": "​",
            "_view_module": "@jupyter-widgets/controls",
            "_model_module_version": "1.5.0",
            "value": "100%",
            "_view_count": null,
            "_view_module_version": "1.5.0",
            "description_tooltip": null,
            "_model_module": "@jupyter-widgets/controls",
            "layout": "IPY_MODEL_4de43bb29a6547db8b008cb9fc77d420"
          }
        },
        "28e7d4ba2b3c4c4f956468b08d469458": {
          "model_module": "@jupyter-widgets/controls",
          "model_name": "FloatProgressModel",
          "model_module_version": "1.5.0",
          "state": {
            "_view_name": "ProgressView",
            "style": "IPY_MODEL_1f12c581adbf49599af34b4fd2236753",
            "_dom_classes": [],
            "description": "",
            "_model_name": "FloatProgressModel",
            "bar_style": "success",
            "max": 6,
            "_view_module": "@jupyter-widgets/controls",
            "_model_module_version": "1.5.0",
            "value": 6,
            "_view_count": null,
            "_view_module_version": "1.5.0",
            "orientation": "horizontal",
            "min": 0,
            "description_tooltip": null,
            "_model_module": "@jupyter-widgets/controls",
            "layout": "IPY_MODEL_692c332a28044857a75825d3e31c9e82"
          }
        },
        "8b81bfee3ef14b668e27d361b81a189d": {
          "model_module": "@jupyter-widgets/controls",
          "model_name": "HTMLModel",
          "model_module_version": "1.5.0",
          "state": {
            "_view_name": "HTMLView",
            "style": "IPY_MODEL_3477b16789094d34aa26bc4f17128c8b",
            "_dom_classes": [],
            "description": "",
            "_model_name": "HTMLModel",
            "placeholder": "​",
            "_view_module": "@jupyter-widgets/controls",
            "_model_module_version": "1.5.0",
            "value": " 6/6 [00:00&lt;00:00, 86.51it/s]",
            "_view_count": null,
            "_view_module_version": "1.5.0",
            "description_tooltip": null,
            "_model_module": "@jupyter-widgets/controls",
            "layout": "IPY_MODEL_fc1eae8259dd465ab2b73ddbab24dff2"
          }
        },
        "203bcb4358094e5784bfd0468d603dc5": {
          "model_module": "@jupyter-widgets/controls",
          "model_name": "DescriptionStyleModel",
          "model_module_version": "1.5.0",
          "state": {
            "_view_name": "StyleView",
            "_model_name": "DescriptionStyleModel",
            "description_width": "",
            "_view_module": "@jupyter-widgets/base",
            "_model_module_version": "1.5.0",
            "_view_count": null,
            "_view_module_version": "1.2.0",
            "_model_module": "@jupyter-widgets/controls"
          }
        },
        "4de43bb29a6547db8b008cb9fc77d420": {
          "model_module": "@jupyter-widgets/base",
          "model_name": "LayoutModel",
          "model_module_version": "1.2.0",
          "state": {
            "_view_name": "LayoutView",
            "grid_template_rows": null,
            "right": null,
            "justify_content": null,
            "_view_module": "@jupyter-widgets/base",
            "overflow": null,
            "_model_module_version": "1.2.0",
            "_view_count": null,
            "flex_flow": null,
            "width": null,
            "min_width": null,
            "border": null,
            "align_items": null,
            "bottom": null,
            "_model_module": "@jupyter-widgets/base",
            "top": null,
            "grid_column": null,
            "overflow_y": null,
            "overflow_x": null,
            "grid_auto_flow": null,
            "grid_area": null,
            "grid_template_columns": null,
            "flex": null,
            "_model_name": "LayoutModel",
            "justify_items": null,
            "grid_row": null,
            "max_height": null,
            "align_content": null,
            "visibility": null,
            "align_self": null,
            "height": null,
            "min_height": null,
            "padding": null,
            "grid_auto_rows": null,
            "grid_gap": null,
            "max_width": null,
            "order": null,
            "_view_module_version": "1.2.0",
            "grid_template_areas": null,
            "object_position": null,
            "object_fit": null,
            "grid_auto_columns": null,
            "margin": null,
            "display": null,
            "left": null
          }
        },
        "1f12c581adbf49599af34b4fd2236753": {
          "model_module": "@jupyter-widgets/controls",
          "model_name": "ProgressStyleModel",
          "model_module_version": "1.5.0",
          "state": {
            "_view_name": "StyleView",
            "_model_name": "ProgressStyleModel",
            "description_width": "",
            "_view_module": "@jupyter-widgets/base",
            "_model_module_version": "1.5.0",
            "_view_count": null,
            "_view_module_version": "1.2.0",
            "bar_color": null,
            "_model_module": "@jupyter-widgets/controls"
          }
        },
        "692c332a28044857a75825d3e31c9e82": {
          "model_module": "@jupyter-widgets/base",
          "model_name": "LayoutModel",
          "model_module_version": "1.2.0",
          "state": {
            "_view_name": "LayoutView",
            "grid_template_rows": null,
            "right": null,
            "justify_content": null,
            "_view_module": "@jupyter-widgets/base",
            "overflow": null,
            "_model_module_version": "1.2.0",
            "_view_count": null,
            "flex_flow": null,
            "width": null,
            "min_width": null,
            "border": null,
            "align_items": null,
            "bottom": null,
            "_model_module": "@jupyter-widgets/base",
            "top": null,
            "grid_column": null,
            "overflow_y": null,
            "overflow_x": null,
            "grid_auto_flow": null,
            "grid_area": null,
            "grid_template_columns": null,
            "flex": null,
            "_model_name": "LayoutModel",
            "justify_items": null,
            "grid_row": null,
            "max_height": null,
            "align_content": null,
            "visibility": null,
            "align_self": null,
            "height": null,
            "min_height": null,
            "padding": null,
            "grid_auto_rows": null,
            "grid_gap": null,
            "max_width": null,
            "order": null,
            "_view_module_version": "1.2.0",
            "grid_template_areas": null,
            "object_position": null,
            "object_fit": null,
            "grid_auto_columns": null,
            "margin": null,
            "display": null,
            "left": null
          }
        },
        "3477b16789094d34aa26bc4f17128c8b": {
          "model_module": "@jupyter-widgets/controls",
          "model_name": "DescriptionStyleModel",
          "model_module_version": "1.5.0",
          "state": {
            "_view_name": "StyleView",
            "_model_name": "DescriptionStyleModel",
            "description_width": "",
            "_view_module": "@jupyter-widgets/base",
            "_model_module_version": "1.5.0",
            "_view_count": null,
            "_view_module_version": "1.2.0",
            "_model_module": "@jupyter-widgets/controls"
          }
        },
        "fc1eae8259dd465ab2b73ddbab24dff2": {
          "model_module": "@jupyter-widgets/base",
          "model_name": "LayoutModel",
          "model_module_version": "1.2.0",
          "state": {
            "_view_name": "LayoutView",
            "grid_template_rows": null,
            "right": null,
            "justify_content": null,
            "_view_module": "@jupyter-widgets/base",
            "overflow": null,
            "_model_module_version": "1.2.0",
            "_view_count": null,
            "flex_flow": null,
            "width": null,
            "min_width": null,
            "border": null,
            "align_items": null,
            "bottom": null,
            "_model_module": "@jupyter-widgets/base",
            "top": null,
            "grid_column": null,
            "overflow_y": null,
            "overflow_x": null,
            "grid_auto_flow": null,
            "grid_area": null,
            "grid_template_columns": null,
            "flex": null,
            "_model_name": "LayoutModel",
            "justify_items": null,
            "grid_row": null,
            "max_height": null,
            "align_content": null,
            "visibility": null,
            "align_self": null,
            "height": null,
            "min_height": null,
            "padding": null,
            "grid_auto_rows": null,
            "grid_gap": null,
            "max_width": null,
            "order": null,
            "_view_module_version": "1.2.0",
            "grid_template_areas": null,
            "object_position": null,
            "object_fit": null,
            "grid_auto_columns": null,
            "margin": null,
            "display": null,
            "left": null
          }
        }
      }
    }
  },
  "cells": [
    {
      "cell_type": "markdown",
      "metadata": {
        "id": "Ot3c4fjZwC4T"
      },
      "source": [
        "<img src=\"https://s8.hostingkartinok.com/uploads/images/2018/08/308b49fcfbc619d629fe4604bceb67ac.jpg\" width=500, height=450>\n",
        "<h3 style=\"text-align: center;\"><b>Физтех-Школа Прикладной математики и информатики (ФПМИ) МФТИ</b></h3>"
      ]
    },
    {
      "cell_type": "markdown",
      "metadata": {
        "id": "P2JdzEXmwRU5"
      },
      "source": [
        "---"
      ]
    },
    {
      "cell_type": "markdown",
      "metadata": {
        "id": "Fc8iHXIVwDwj"
      },
      "source": [
        "***Some parts of the notebook are almost the copy of [ mmta-team course](https://github.com/mmta-team/mmta_fall_2020). Special thanks to mmta-team for making them publicly available. [Original notebook](https://github.com/mmta-team/mmta_fall_2020/blob/master/tasks/01_word_embeddings/task_word_embeddings.ipynb).***"
      ]
    },
    {
      "cell_type": "markdown",
      "metadata": {
        "id": "7D0wm5jt6j0U"
      },
      "source": [
        "<b> Прочитайте семинар, пожалуйста, для успешного выполнения домашнего задания. В конце ноутка напишите свой вывод. Работа без вывода оценивается ниже."
      ]
    },
    {
      "cell_type": "markdown",
      "metadata": {
        "id": "BIWqBuEa6j0b"
      },
      "source": [
        "## Задача поиска схожих по смыслу предложений"
      ]
    },
    {
      "cell_type": "markdown",
      "metadata": {
        "id": "NUkwMPLA6j0g"
      },
      "source": [
        "Мы будем ранжировать вопросы [StackOverflow](https://stackoverflow.com) на основе семантического векторного представления "
      ]
    },
    {
      "cell_type": "markdown",
      "metadata": {
        "id": "dNRXIEfu5a3Q"
      },
      "source": [
        "До этого в курсе не было речи про задачу ранжировния, поэтому введем математическую формулировку"
      ]
    },
    {
      "cell_type": "markdown",
      "metadata": {
        "id": "uS9FwWNd5a3S"
      },
      "source": [
        "## Задача ранжирования(Learning to Rank)"
      ]
    },
    {
      "cell_type": "markdown",
      "metadata": {
        "id": "wdwY9-f75a3T"
      },
      "source": [
        "* $X$ - множество объектов\n",
        "* $X^l = \\{x_1, x_2, ..., x_l\\}$ - обучающая выборка\n",
        "<br>На обучающей выборке задан порядок между некоторыми элементами, то есть нам известно, что некий объект выборки более релевантный для нас, чем другой:\n",
        "* $i \\prec j$ - порядок пары индексов объектов на выборке $X^l$ c индексами $i$ и $j$\n",
        "### Задача:\n",
        "построить ранжирующую функцию $a$ : $X \\rightarrow R$ такую, что\n",
        "$$i \\prec j \\Rightarrow a(x_i) < a(x_j)$$"
      ]
    },
    {
      "cell_type": "markdown",
      "metadata": {
        "id": "WG2IGBsh5a3U"
      },
      "source": [
        "<img src=\"https://d25skit2l41vkl.cloudfront.net/wp-content/uploads/2016/12/Featured-Image.jpg\" width=500, height=450>"
      ]
    },
    {
      "cell_type": "markdown",
      "metadata": {
        "id": "MQk_rolFwT_h"
      },
      "source": [
        "### Embeddings"
      ]
    },
    {
      "cell_type": "markdown",
      "metadata": {
        "id": "xUe1PGXn6j0l"
      },
      "source": [
        "Будем использовать предобученные векторные представления слов на постах Stack Overflow.<br>\n",
        "[A word2vec model trained on Stack Overflow posts](https://github.com/vefstathiou/SO_word2vec)"
      ]
    },
    {
      "cell_type": "code",
      "metadata": {
        "id": "mYkI54Y-rk7a",
        "colab": {
          "base_uri": "https://localhost:8080/",
          "height": 0
        },
        "outputId": "f0ae1a12-1688-40bf-d637-f5cf9d33f0d6"
      },
      "source": [
        "!wget https://zenodo.org/record/1199620/files/SO_vectors_200.bin?download=1"
      ],
      "execution_count": 1,
      "outputs": [
        {
          "output_type": "stream",
          "name": "stdout",
          "text": [
            "--2021-10-02 12:50:15--  https://zenodo.org/record/1199620/files/SO_vectors_200.bin?download=1\n",
            "Resolving zenodo.org (zenodo.org)... 137.138.76.77\n",
            "Connecting to zenodo.org (zenodo.org)|137.138.76.77|:443... connected.\n",
            "HTTP request sent, awaiting response... 200 OK\n",
            "Length: 1453905423 (1.4G) [application/octet-stream]\n",
            "Saving to: ‘SO_vectors_200.bin?download=1.2’\n",
            "\n",
            "SO_vectors_200.bin? 100%[===================>]   1.35G  17.7MB/s    in 83s     \n",
            "\n",
            "2021-10-02 12:51:39 (16.8 MB/s) - ‘SO_vectors_200.bin?download=1.2’ saved [1453905423/1453905423]\n",
            "\n"
          ]
        }
      ]
    },
    {
      "cell_type": "code",
      "metadata": {
        "id": "O8YJTOYv6j0s"
      },
      "source": [
        "from gensim.models.keyedvectors import KeyedVectors\n",
        "wv_embeddings = KeyedVectors.load_word2vec_format(\"SO_vectors_200.bin?download=1\", binary=True)"
      ],
      "execution_count": 2,
      "outputs": []
    },
    {
      "cell_type": "markdown",
      "metadata": {
        "id": "aIcT_g-C6j1E"
      },
      "source": [
        "#### Как пользоваться этими векторами?"
      ]
    },
    {
      "cell_type": "markdown",
      "metadata": {
        "id": "DWO5SPDY6j1G"
      },
      "source": [
        "Посмотрим на примере одного слова, что из себя представляет embedding"
      ]
    },
    {
      "cell_type": "code",
      "metadata": {
        "scrolled": true,
        "id": "KeSBlQfk6j1J",
        "colab": {
          "base_uri": "https://localhost:8080/",
          "height": 0
        },
        "outputId": "6e13b17a-d2b5-4f85-b6cb-4d6920d25f7f"
      },
      "source": [
        "word = 'dog'\n",
        "if word in wv_embeddings:\n",
        "    print(wv_embeddings[word].dtype, wv_embeddings[word].shape)"
      ],
      "execution_count": 3,
      "outputs": [
        {
          "output_type": "stream",
          "name": "stdout",
          "text": [
            "float32 (200,)\n"
          ]
        }
      ]
    },
    {
      "cell_type": "code",
      "metadata": {
        "colab": {
          "base_uri": "https://localhost:8080/",
          "height": 0
        },
        "id": "l1cvV_XcsI36",
        "outputId": "18bf940a-0b54-47fa-9291-c8a25655f143"
      },
      "source": [
        "print(wv_embeddings['dog'][:20])"
      ],
      "execution_count": 4,
      "outputs": [
        {
          "output_type": "stream",
          "name": "stdout",
          "text": [
            "[ 0.6851772  -1.2778991  -0.41913974  1.3623164  -3.1675398   0.09950767\n",
            "  0.6402681  -1.1245339  -0.6699619  -0.6998852   0.4936771  -0.40500194\n",
            " -3.0706816  -2.2809966   0.85798043  2.7093108   0.3492745  -0.03494101\n",
            " -0.22330493  1.2290467 ]\n"
          ]
        }
      ]
    },
    {
      "cell_type": "code",
      "metadata": {
        "id": "T4Eq-D1qxpMJ",
        "colab": {
          "base_uri": "https://localhost:8080/",
          "height": 0
        },
        "outputId": "d8fd3f33-301e-4d31-f4d9-1cde60607c48"
      },
      "source": [
        "print(f\"Num of words: {len(wv_embeddings.index2word)}\")"
      ],
      "execution_count": 5,
      "outputs": [
        {
          "output_type": "stream",
          "name": "stdout",
          "text": [
            "Num of words: 1787145\n"
          ]
        }
      ]
    },
    {
      "cell_type": "markdown",
      "metadata": {
        "id": "ZT6NTCys6j1Q"
      },
      "source": [
        "Найдем наиболее близкие слова к слову `dog`:"
      ]
    },
    {
      "cell_type": "markdown",
      "metadata": {
        "id": "n08z2PjMwC5o"
      },
      "source": [
        "#### Вопрос 1:\n",
        "* Входит ли слов `cat` топ-5 близких слов к слову `dog`? Какое место? "
      ]
    },
    {
      "cell_type": "code",
      "metadata": {
        "scrolled": true,
        "id": "nYwVz0xG6j1U",
        "colab": {
          "base_uri": "https://localhost:8080/",
          "height": 0
        },
        "outputId": "4ac6876b-d0f4-4279-dc05-160839cbb940"
      },
      "source": [
        "# method most_simmilar\n",
        "'''your code'''\n",
        "wv_embeddings.most_similar('dog')[:5]\n",
        "# wv_embeddings.similarity('dog', 'cat')"
      ],
      "execution_count": 6,
      "outputs": [
        {
          "output_type": "execute_result",
          "data": {
            "text/plain": [
              "[('animal', 0.8564180135726929),\n",
              " ('dogs', 0.7880867123603821),\n",
              " ('mammal', 0.7623804807662964),\n",
              " ('cats', 0.7621253728866577),\n",
              " ('animals', 0.760793924331665)]"
            ]
          },
          "metadata": {},
          "execution_count": 6
        }
      ]
    },
    {
      "cell_type": "markdown",
      "metadata": {
        "id": "TLwbeaYKsPE7"
      },
      "source": [
        "Ответ: dog не входит, но входит dogs"
      ]
    },
    {
      "cell_type": "markdown",
      "metadata": {
        "id": "ai48-5vv6j1d"
      },
      "source": [
        "### Векторные представления текста\n",
        "\n",
        "Перейдем от векторных представлений отдельных слов к векторным представлениям вопросов, как к **среднему** векторов всех слов в вопросе. Если для какого-то слова нет предобученного вектора, то его нужно пропустить. Если вопрос не содержит ни одного известного слова, то нужно вернуть нулевой вектор."
      ]
    },
    {
      "cell_type": "code",
      "metadata": {
        "id": "EhNuxBJd6j1f"
      },
      "source": [
        "import numpy as np\n",
        "import re\n",
        "# you can use your tokenizer\n",
        "# for example, from nltk.tokenize import WordPunctTokenizer\n",
        "class MyTokenizer:\n",
        "    def __init__(self):\n",
        "        pass\n",
        "    def tokenize(self, text):\n",
        "        return re.findall('\\w+', text)\n",
        "        \n",
        "tokenizer = MyTokenizer()"
      ],
      "execution_count": 7,
      "outputs": []
    },
    {
      "cell_type": "code",
      "metadata": {
        "colab": {
          "base_uri": "https://localhost:8080/",
          "height": 0
        },
        "id": "rizQY1Ritq-U",
        "outputId": "e2b5b1b8-7531-40a2-eb5f-9e8aedaf14f6"
      },
      "source": [
        "print(tokenizer.tokenize(\"C# create cookie from string and send it\"))"
      ],
      "execution_count": 8,
      "outputs": [
        {
          "output_type": "stream",
          "name": "stdout",
          "text": [
            "['C', 'create', 'cookie', 'from', 'string', 'and', 'send', 'it']\n"
          ]
        }
      ]
    },
    {
      "cell_type": "markdown",
      "metadata": {
        "id": "0JRQpt4Sv4QF"
      },
      "source": [
        "Беда"
      ]
    },
    {
      "cell_type": "code",
      "metadata": {
        "id": "YHcvu6186j1m"
      },
      "source": [
        "def question_to_vec(question, embeddings, tokenizer, dim=200):\n",
        "    \"\"\"\n",
        "        question: строка\n",
        "        embeddings: наше векторное представление\n",
        "        dim: размер любого вектора в нашем представлении\n",
        "        \n",
        "        return: векторное представление для вопроса\n",
        "    \"\"\"\n",
        "    \n",
        "    '''your code'''\n",
        "    words = question.split()\n",
        "    result = np.array([0] * dim, dtype=float)\n",
        "    n_known = 0\n",
        "\n",
        "    for word in words:\n",
        "        if word in embeddings:\n",
        "            result += embeddings[word] \n",
        "            n_known+=1\n",
        "    if n_known != 0:\n",
        "        return np.array(result/n_known,dtype=float)\n",
        "    else:\n",
        "        return np.array(result,dtype=float)"
      ],
      "execution_count": 9,
      "outputs": []
    },
    {
      "cell_type": "markdown",
      "metadata": {
        "id": "u5Q_4j7r6j1u"
      },
      "source": [
        "Теперь у нас есть метод для создания векторного представления любого предложения."
      ]
    },
    {
      "cell_type": "markdown",
      "metadata": {
        "id": "EsJSNkhm6j1y"
      },
      "source": [
        "#### Вопрос 2:\n",
        "* Какая третья(с индексом 2) компонента вектора предложения `I love neural networks` (округлите до 2 знаков после запятой)?"
      ]
    },
    {
      "cell_type": "code",
      "metadata": {
        "scrolled": true,
        "id": "a62r11cT6j10",
        "colab": {
          "base_uri": "https://localhost:8080/",
          "height": 0
        },
        "outputId": "973e4bfe-2d01-4c56-87e9-e571956e99fe"
      },
      "source": [
        "'''your code'''\n",
        "round(question_to_vec(\"I love neural networks\", wv_embeddings, tokenizer)[2],2)"
      ],
      "execution_count": 10,
      "outputs": [
        {
          "output_type": "execute_result",
          "data": {
            "text/plain": [
              "-1.29"
            ]
          },
          "metadata": {},
          "execution_count": 10
        }
      ]
    },
    {
      "cell_type": "markdown",
      "metadata": {
        "id": "T6JIa7SWCw2Y"
      },
      "source": [
        "Ответ: -1.29"
      ]
    },
    {
      "cell_type": "code",
      "metadata": {
        "colab": {
          "base_uri": "https://localhost:8080/",
          "height": 0
        },
        "id": "pWgk0MpxxQpA",
        "outputId": "a9dbe274-6ac0-47fb-86f8-14e72bef71ff"
      },
      "source": [
        "# Попробуем другой токенайзер\n",
        "from nltk.tokenize import WordPunctTokenizer\n",
        "\n",
        "nltk_tokenizer = WordPunctTokenizer()\n",
        "round(question_to_vec(\"I love neural networks\", wv_embeddings, nltk_tokenizer)[2],2)"
      ],
      "execution_count": 11,
      "outputs": [
        {
          "output_type": "execute_result",
          "data": {
            "text/plain": [
              "-1.29"
            ]
          },
          "metadata": {},
          "execution_count": 11
        }
      ]
    },
    {
      "cell_type": "markdown",
      "metadata": {
        "id": "Y60z4t6W6j16"
      },
      "source": [
        "### Оценка близости текстов\n",
        "\n",
        "Представим, что мы используем идеальные векторные представления слов. Тогда косинусное расстояние между дублирующими предложениями должно быть меньше, чем между случайно взятыми предложениями. \n",
        "\n",
        "Сгенерируем для каждого из $N$ вопросов $R$ случайных отрицательных примеров и примешаем к ним также настоящие дубликаты. Для каждого вопроса будем ранжировать с помощью нашей модели $R + 1$ примеров и смотреть на позицию дубликата. Мы хотим, чтобы дубликат был первым в ранжированном списке.\n",
        "\n",
        "#### Hits@K\n",
        "Первой простой метрикой будет количество корректных попаданий для какого-то $K$:\n",
        "$$ \\text{Hits@K} = \\frac{1}{N}\\sum_{i=1}^N \\, [rank\\_q_i^{'} \\le K],$$\n",
        "* $\\begin{equation*}\n",
        "[x < 0 ] \\equiv \n",
        " \\begin{cases}\n",
        "   1, &x < 0\\\\\n",
        "   0, &x \\geq 0\n",
        " \\end{cases}\n",
        "\\end{equation*}$ - индикаторная функция\n",
        "* $q_i$ - $i$-ый вопрос\n",
        "* $q_i^{'}$ - его дубликат\n",
        "* $rank\\_q_i^{'}$ - позиция дубликата в ранжированном списке ближайших предложений для вопроса $q_i$.\n",
        "\n",
        "#### DCG@K\n",
        "Второй метрикой будет упрощенная DCG метрика, учитывающая порядок элементов в списке путем домножения релевантности элемента на вес равный обратному логарифму номера позиции::\n",
        "$$ \\text{DCG@K} = \\frac{1}{N} \\sum_{i=1}^N\\frac{1}{\\log_2(1+rank\\_q_i^{'})}\\cdot[rank\\_q_i^{'} \\le K],$$\n",
        "С такой метрикой модель штрафуется за большой ранк корректного ответа"
      ]
    },
    {
      "cell_type": "markdown",
      "metadata": {
        "id": "eHCnH-jw6j18"
      },
      "source": [
        "#### Вопрос 3:\n",
        "* Максимум `Hits@47 - DCG@1`?"
      ]
    },
    {
      "cell_type": "markdown",
      "metadata": {
        "id": "pw8jGh36KDfv"
      },
      "source": [
        "Ответ: 1 (проверял через фукции ниже)"
      ]
    },
    {
      "cell_type": "markdown",
      "metadata": {
        "id": "_tFemBkP6j1-"
      },
      "source": [
        "<img src='https://hsto.org/files/1c5/edf/dee/1c5edfdeebce4b71a86bdf986d9f88f2.jpg' width=400, height=200>"
      ]
    },
    {
      "cell_type": "markdown",
      "metadata": {
        "id": "0sUSxk866j1_"
      },
      "source": [
        "#### Пример оценок\n",
        "\n",
        "Вычислим описанные выше метрики для игрушечного примера. \n",
        "Пусть\n",
        "* $N = 1$, $R = 3$\n",
        "* <font color='green'>\"Что такое python?\"</font> - вопрос $q_1$\n",
        "* <font color='red'>\"Что такое язык python?\"</font> - его дубликат $q_i^{'}$\n",
        "\n",
        "Пусть модель выдала следующий ранжированный список кандидатов:\n",
        "\n",
        "1. \"Как изучить с++?\"\n",
        "2. <font color='red'>\"Что такое язык python?\"</font>\n",
        "3. \"Хочу учить Java\"\n",
        "4. \"Не понимаю Tensorflow\"\n",
        "\n",
        "$\\Rightarrow rank\\_q_i^{'} = 2$\n",
        "\n",
        "Вычислим метрику *Hits@K* для *K = 1, 4*:\n",
        "\n",
        "- [K = 1] $\\text{Hits@1} =  [rank\\_q_i^{'} \\le 1)] = 0$\n",
        "- [K = 4] $\\text{Hits@4} =  [rank\\_q_i^{'} \\le 4] = 1$\n",
        "\n",
        "Вычислим метрику *DCG@K* для *K = 1, 4*:\n",
        "- [K = 1] $\\text{DCG@1} = \\frac{1}{\\log_2(1+2)}\\cdot[2 \\le 1] = 0$\n",
        "- [K = 4] $\\text{DCG@4} = \\frac{1}{\\log_2(1+2)}\\cdot[2 \\le 4] = \\frac{1}{\\log_2{3}}$"
      ]
    },
    {
      "cell_type": "markdown",
      "metadata": {
        "id": "B4L6HJJC6j2B"
      },
      "source": [
        "#### Вопрос 4:\n",
        "* Вычислите `DCG@10`, если $rank\\_q_i^{'} = 9$(округлите до одного знака после запятой)"
      ]
    },
    {
      "cell_type": "markdown",
      "metadata": {
        "id": "Rjz_UrwI96Dt"
      },
      "source": [
        "Ответ: 0.3"
      ]
    },
    {
      "cell_type": "markdown",
      "metadata": {
        "id": "J5xWOORI6j2F"
      },
      "source": [
        "### HITS\\_COUNT и DCG\\_SCORE"
      ]
    },
    {
      "cell_type": "markdown",
      "metadata": {
        "id": "I1q9WQOx6j2H"
      },
      "source": [
        "Каждая функция имеет два аргумента: $dup\\_ranks$ и $k$. $dup\\_ranks$ является списком, который содержит рейтинги дубликатов(их позиции в ранжированном списке). Например, $dup\\_ranks = [2]$ для примера, описанного выше."
      ]
    },
    {
      "cell_type": "code",
      "metadata": {
        "id": "F5VwySUB6j2J"
      },
      "source": [
        "def hits_count(dup_ranks, k):\n",
        "    \"\"\"\n",
        "        dup_ranks: list индексов дубликатов\n",
        "        result: вернуть  Hits@k\n",
        "    \"\"\"\n",
        "    N = len(dup_ranks)\n",
        "    hits_value = np.sum([1 for i in range(N) if dup_ranks[i] <= k])/N\n",
        "    return hits_value    "
      ],
      "execution_count": 12,
      "outputs": []
    },
    {
      "cell_type": "code",
      "metadata": {
        "id": "82hQaxCH6j2R"
      },
      "source": [
        "def dcg_score(dup_ranks, k):\n",
        "    \"\"\"\n",
        "        dup_ranks: list индексов дубликатов\n",
        "        result: вернуть DCG@k\n",
        "    \"\"\"\n",
        "    '''your code'''\n",
        "    N = len(dup_ranks)\n",
        "    dcg_value = (1/N) * sum(list(map(lambda x: int(x <= k) / np.log2(1 + x), dup_ranks)))\n",
        "    return dcg_value"
      ],
      "execution_count": 13,
      "outputs": []
    },
    {
      "cell_type": "markdown",
      "metadata": {
        "id": "PcwHeXN26j2Y"
      },
      "source": [
        "Протестируем функции. Пусть $N = 1$, то есть один эксперимент. Будем искать копию вопроса и оценивать метрики."
      ]
    },
    {
      "cell_type": "code",
      "metadata": {
        "id": "fjISmOEW6j2h"
      },
      "source": [
        "import pandas as pd"
      ],
      "execution_count": 14,
      "outputs": []
    },
    {
      "cell_type": "code",
      "metadata": {
        "id": "gLa_Wqfh6j2m",
        "colab": {
          "base_uri": "https://localhost:8080/",
          "height": 0
        },
        "outputId": "5eaff1f9-5bd8-4ab8-b54a-424d240ba03b"
      },
      "source": [
        "copy_answers = [\"How does the catch keyword determine the type of exception that was thrown\",]\n",
        "\n",
        "# наги кандидаты\n",
        "candidates_ranking = [[\"How Can I Make These Links Rotate in PHP\",\n",
        "                       \"How does the catch keyword determine the type of exception that was thrown\",\n",
        "                       \"NSLog array description not memory address\",\n",
        "                       \"PECL_HTTP not recognised php ubuntu\"],]\n",
        "# dup_ranks — позиции наших копий, так как эксперимент один, то этот массив длины 1\n",
        "dup_ranks = [candidates_ranking[i].index(copy_answers[i]) + 1 for i in range(len(copy_answers))]\n",
        "\n",
        "# вычисляем метрику для разных k\n",
        "print('Ваш ответ HIT:', [hits_count(dup_ranks, k) for k in range(1, 5)])\n",
        "print('Ваш ответ DCG:', [round(dcg_score(dup_ranks, k), 5) for k in range(1, 5)])"
      ],
      "execution_count": 15,
      "outputs": [
        {
          "output_type": "stream",
          "name": "stdout",
          "text": [
            "Ваш ответ HIT: [0.0, 1.0, 1.0, 1.0]\n",
            "Ваш ответ DCG: [0.0, 0.63093, 0.63093, 0.63093]\n"
          ]
        }
      ]
    },
    {
      "cell_type": "markdown",
      "metadata": {
        "id": "MoHC3YoQ6j2t"
      },
      "source": [
        "У вас должно получиться"
      ]
    },
    {
      "cell_type": "code",
      "metadata": {
        "scrolled": true,
        "id": "B0NFWq4f6j2u",
        "colab": {
          "base_uri": "https://localhost:8080/",
          "height": 112
        },
        "outputId": "3f5642da-346b-4c9b-e4d8-c44097f9b326"
      },
      "source": [
        "# correct_answers - метрика для разных k\n",
        "correct_answers = pd.DataFrame([[0, 1, 1, 1], [0, 1 / (np.log2(3)), 1 / (np.log2(3)), 1 / (np.log2(3))]],\n",
        "                               index=['HITS', 'DCG'], columns=range(1,5))\n",
        "correct_answers"
      ],
      "execution_count": 16,
      "outputs": [
        {
          "output_type": "execute_result",
          "data": {
            "text/html": [
              "<div>\n",
              "<style scoped>\n",
              "    .dataframe tbody tr th:only-of-type {\n",
              "        vertical-align: middle;\n",
              "    }\n",
              "\n",
              "    .dataframe tbody tr th {\n",
              "        vertical-align: top;\n",
              "    }\n",
              "\n",
              "    .dataframe thead th {\n",
              "        text-align: right;\n",
              "    }\n",
              "</style>\n",
              "<table border=\"1\" class=\"dataframe\">\n",
              "  <thead>\n",
              "    <tr style=\"text-align: right;\">\n",
              "      <th></th>\n",
              "      <th>1</th>\n",
              "      <th>2</th>\n",
              "      <th>3</th>\n",
              "      <th>4</th>\n",
              "    </tr>\n",
              "  </thead>\n",
              "  <tbody>\n",
              "    <tr>\n",
              "      <th>HITS</th>\n",
              "      <td>0</td>\n",
              "      <td>1.00000</td>\n",
              "      <td>1.00000</td>\n",
              "      <td>1.00000</td>\n",
              "    </tr>\n",
              "    <tr>\n",
              "      <th>DCG</th>\n",
              "      <td>0</td>\n",
              "      <td>0.63093</td>\n",
              "      <td>0.63093</td>\n",
              "      <td>0.63093</td>\n",
              "    </tr>\n",
              "  </tbody>\n",
              "</table>\n",
              "</div>"
            ],
            "text/plain": [
              "      1        2        3        4\n",
              "HITS  0  1.00000  1.00000  1.00000\n",
              "DCG   0  0.63093  0.63093  0.63093"
            ]
          },
          "metadata": {},
          "execution_count": 16
        }
      ]
    },
    {
      "cell_type": "markdown",
      "metadata": {
        "id": "tHZqgDTo6j0i"
      },
      "source": [
        "### Данные\n",
        "[arxiv link](https://drive.google.com/file/d/1QqT4D0EoqJTy7v9VrNCYD-m964XZFR7_/edit)\n",
        "\n",
        "`train.tsv` - выборка для обучения.<br> В каждой строке через табуляцию записаны: **<вопрос>, <похожий вопрос>**\n",
        "\n",
        "`validation.tsv` - тестовая выборка.<br> В каждой строке через табуляцию записаны: **<вопрос>, <похожий вопрос>, <отрицательный пример 1>, <отрицательный пример 2>, ...**"
      ]
    },
    {
      "cell_type": "code",
      "metadata": {
        "id": "AZfGXXH_MtUw",
        "colab": {
          "base_uri": "https://localhost:8080/",
          "height": 0
        },
        "outputId": "bb4e6083-5344-496b-83a5-aec0021a09df"
      },
      "source": [
        "from google.colab import drive\n",
        "drive.mount('/content/gdrive')\n",
        "!unzip /content/gdrive/MyDrive/Colab_Notebooks/simple_embeddings/stackoverflow_similar_questions.zip"
      ],
      "execution_count": 17,
      "outputs": [
        {
          "output_type": "stream",
          "name": "stdout",
          "text": [
            "Drive already mounted at /content/gdrive; to attempt to forcibly remount, call drive.mount(\"/content/gdrive\", force_remount=True).\n",
            "Archive:  /content/gdrive/MyDrive/Colab_Notebooks/simple_embeddings/stackoverflow_similar_questions.zip\n",
            "replace data/.DS_Store? [y]es, [n]o, [A]ll, [N]one, [r]ename: A\n",
            "  inflating: data/.DS_Store          \n",
            "  inflating: __MACOSX/data/._.DS_Store  \n",
            "  inflating: data/train.tsv          \n",
            "  inflating: data/validation.tsv     \n"
          ]
        }
      ]
    },
    {
      "cell_type": "markdown",
      "metadata": {
        "id": "hil2UsUG6j22"
      },
      "source": [
        "Считайте данные."
      ]
    },
    {
      "cell_type": "code",
      "metadata": {
        "id": "B4EBho8s6j26"
      },
      "source": [
        "def read_corpus(filename):\n",
        "    data = []\n",
        "    for line in open(filename, encoding='utf-8'):\n",
        "        data.append(line.split('\\t'))\n",
        "    return data"
      ],
      "execution_count": 18,
      "outputs": []
    },
    {
      "cell_type": "markdown",
      "metadata": {
        "id": "kkTxY3Mk9_nG"
      },
      "source": [
        "Нам понадобиться только файл validation."
      ]
    },
    {
      "cell_type": "code",
      "metadata": {
        "id": "PTVB9Tnp6j29"
      },
      "source": [
        "validation_data = read_corpus('./data/validation.tsv')"
      ],
      "execution_count": 19,
      "outputs": []
    },
    {
      "cell_type": "markdown",
      "metadata": {
        "id": "bTHfL-9y6j3F"
      },
      "source": [
        "Кол-во строк"
      ]
    },
    {
      "cell_type": "code",
      "metadata": {
        "scrolled": false,
        "id": "z6ubXhIe6j3H",
        "colab": {
          "base_uri": "https://localhost:8080/",
          "height": 0
        },
        "outputId": "0c7fafa7-03af-45af-a937-4fbe51592f5e"
      },
      "source": [
        "len(validation_data)"
      ],
      "execution_count": 20,
      "outputs": [
        {
          "output_type": "execute_result",
          "data": {
            "text/plain": [
              "3760"
            ]
          },
          "metadata": {},
          "execution_count": 20
        }
      ]
    },
    {
      "cell_type": "code",
      "metadata": {
        "colab": {
          "base_uri": "https://localhost:8080/",
          "height": 0
        },
        "id": "1RPQU9QIdrWR",
        "outputId": "f4bf3546-dbe2-409d-ea57-b9c2f67602a7"
      },
      "source": [
        "validation_data[0]"
      ],
      "execution_count": 21,
      "outputs": [
        {
          "output_type": "execute_result",
          "data": {
            "text/plain": [
              "['How to print a binary heap tree without recursion?',\n",
              " 'How do you best convert a recursive function to an iterative one?',\n",
              " 'How can i use ng-model with directive in angular js',\n",
              " 'flash: drawing and erasing',\n",
              " 'toggle react component using hide show classname',\n",
              " 'Use a usercontrol from another project to current webpage',\n",
              " '~ Paths resolved differently after upgrading to ASP.NET 4',\n",
              " 'Materialize datepicker - Rendering when an icon is clicked',\n",
              " 'Creating PyPi package - Could not find a version that satisfies the requirement iso8601',\n",
              " 'How can I analyze a confusion matrix?',\n",
              " 'How do I declare a C array in Swift?',\n",
              " 'Using rand() when flipping a coin and rolling a die',\n",
              " 'Handling a JSON field with a special character in its name in Java',\n",
              " 'React Native select row on ListView when push it',\n",
              " \"Get 'creation_time' of video using ffmpeg and regex\",\n",
              " 'Does row exist and multiple where',\n",
              " \"How to specify a classifier in a gradle dependency's dependency?\",\n",
              " 'Using $unwind on multiple documents',\n",
              " 'Visual Studio Code: Missing X509Certificate2UI',\n",
              " 'Developing Cordova plugins for Firefox OS',\n",
              " 'Update multiple rows for 2 columns in MySQL',\n",
              " 'Analyse format of alpha-numeric string',\n",
              " 'Dealing with large TIFF images C++/Magick/libtiff',\n",
              " 'What does Error: [$injector:unpr] Unknown provider: tProvider <- t <- myActiveLinkDirective mean?',\n",
              " 'AngularJS - Apply directive instantly, formating currency',\n",
              " 'Can I change the font color on a portion of a string?',\n",
              " \"Spring AOP does not intercept methods within Spring's container\",\n",
              " 'How to retrieve json in original nested form in apache solr?',\n",
              " \"Spatial autocorrelation using Moran's I or other spatial overlap index\",\n",
              " 'how to stop my php page from continuing when field is empty',\n",
              " 'Selecting all CheckBoxes in ListBox not displayed properly',\n",
              " \"PHP warning: Illegal string offset 'field'\",\n",
              " 'WebBrowser control crashes on Windows 10',\n",
              " 'Error while opening a modal in angular',\n",
              " 'Port 25 works when exe run manually but blocked when run as service',\n",
              " 'Why does 6.00 + (plus) 5.00 = \"5.006.00\"?',\n",
              " 'Count number of processes created using fork in a for loop',\n",
              " 'When should I use UIImagePickerControllerSourceTypePhotoLibrary instead of UIImagePickerControllerSourceTypeSavedPhotosAlbum?',\n",
              " 'Read File in Java, output the first comma delimited String',\n",
              " 'Simple recursive method',\n",
              " 'Ensure SQLite table only has one row',\n",
              " 'Why is there a method iterator() on java.util.Collection',\n",
              " 'Development for Cloudant using local CouchDB',\n",
              " 'Regex to find method calls',\n",
              " 'ASP.NET Menu rendering different from vs2008 to vs2010',\n",
              " 'Maven - Change jUnit Version in Quickstart Archetype',\n",
              " 'Writing sublists in a list of lists to separate text files',\n",
              " 'iPad: problems with table rows in popovercontrol',\n",
              " 'Retrieve multiple results set',\n",
              " 'pagination is not working in codeigniter :(',\n",
              " 'Angular NVD3 Change Colors In Legends Also',\n",
              " 'node.js server not responding while large file upload with express and busboy',\n",
              " 'Send request & Get Response in Windows Phone 8.1 WinRT',\n",
              " 'want to delete only empty folders from directory before last 30 days using batch',\n",
              " 'Creating X amount of threads that execute a task at the same time',\n",
              " 'Android Studio 2.2 update: aligned APK (zipAlign) not generated using the new Gradle Plugin 2.2.0',\n",
              " 'Entity Framework - adding the same entity twice in many-to-many relationships',\n",
              " 'Join two tables, only display unique values and maxium date',\n",
              " 'How to use absolute position relative to parent element',\n",
              " 'Search refinement for WebMatrix site',\n",
              " 'Maven project version as expression, not constant',\n",
              " 'Can I prevent App.g.i.cs to be generated?',\n",
              " 'Troubles converting XSD to Java using JAXB',\n",
              " 'Cannot run a jax rs web service with tomcat',\n",
              " 'make a password protected bash script resist/refuse \"bash -x\" when the password is given',\n",
              " 'Does youtube api play function trigger a view count?',\n",
              " 'Why is this Perl loop over strings then characters so slow?',\n",
              " 'How can I change the size of rgl plots in Shiny RMarkdown?',\n",
              " 'How do I programmatically disconnect clients which are connected to Solace appliance?',\n",
              " 'Rails before_filter (Correct_user OR Admin)',\n",
              " 'How to gitignore everything except hidden subdir?',\n",
              " 'Should I use weakSelf in nested blocks?',\n",
              " 'CSS background color not behaving as expected',\n",
              " 'Android app Listview cannot be scrolled to bottom to search a specific element using appium in java',\n",
              " 'Rails: Why \"has_many ..., :through => ...\" association results in \"NameError: uninitialized constant ...\"',\n",
              " 'How to send data between fragments when swiping tabs in ViewPager',\n",
              " 'Wordpress static pages: how to embed content into templates?',\n",
              " 'Troubles with importing classes from Angular 2 modules with Typescript 1.7',\n",
              " 'i am not able to get the images read in java for exporting it as JAR',\n",
              " 'How do I create a resource dll',\n",
              " 'error: linker command failed: ld: duplicate symbol _main',\n",
              " 'sql to find non-printable characters in a string',\n",
              " 'i want to generate payperiod for each month',\n",
              " 'Interactively enter headline under which to place an entry using capture',\n",
              " 'Querying the DNS service records to find the hostname and TCP/IP',\n",
              " 'Can I use setContentView outside the oncreate method?',\n",
              " 'Consolitate data from multible sheets ,re-arrange the data as per the column name',\n",
              " \"Why is my 'transparent' overlay view opaque?\",\n",
              " 'how can I run play framework with port=9001 under windows cmd not under play console?',\n",
              " 'Rails 3 - Ajax POSTS from a link click',\n",
              " 'Add html content to mysql die error?',\n",
              " 'Best way to run a Plack PSGI Perl application outside of Apache using FastCGI?',\n",
              " 'How to Call NSUserDefault Value To Another View Controller?',\n",
              " 'Does Qt have a way to get the font that the particular css resolves to?',\n",
              " 'How to update Parent component about the data that child component modified(angular 1.5)',\n",
              " '2d array, pushing to one array shows up in all arrays?',\n",
              " 'Get NSData from assets-library URL',\n",
              " 'How to specify image size in HTML Doxygen?',\n",
              " 'NSFetchedResultsControllerDelegate in a second view controller (not firing?)',\n",
              " 'Draggable divs getting mixed with another divs',\n",
              " 'creating MLP in python showing error',\n",
              " 'Create SharePoint 2010 ribbon button programmatically w/o feature XML',\n",
              " 'how can I use pyglet write a music player can play a music list',\n",
              " 'How can I efficiently debug loops consisting of a large number of iterations on Eclipse?',\n",
              " 'Passing a model object to a RedirectToAction without polluting the URL?',\n",
              " \"Automatically receiving mobile phone's SMS to hyperterminal\",\n",
              " 'Output \"System.out.println\" into Emacs Cider\\'s REPL (or other buffer)',\n",
              " 'Scoring regression model using PMML with Augustus in Python',\n",
              " 'Safari View Controller - send data back to app',\n",
              " 'Signalling a bash script running in the background in an infinite loop',\n",
              " 'How do I add in-app purchase to a published app in play store and test it before going into production?',\n",
              " 'FileNotFoundException in Windows 10 Universal App (UAP)',\n",
              " 'How to map one column with other columns in an avro file?',\n",
              " 'Retrieving all the cell data from a jQuery datatable on post',\n",
              " 'In Play! Frame work Can I Make classes In models package Singleton?',\n",
              " 'Binding events with Hammer.js and .on()',\n",
              " 'yii making user auto logged in on signup end (auto authentication after signup)',\n",
              " 'Unreal Engine 4: save rendered frame to memory',\n",
              " 'Building HelloWorld C++ Program in Linux with ncurses',\n",
              " 'Generating Checkbox Lists with MVC3 using a complex viewmodel and a cross table with Linq to SQL',\n",
              " 'CordovaWebView: TIMEOUT ERROR',\n",
              " 'Whats wrong in my xsd schema ? It gives type element is not declared on include of another xsd file',\n",
              " 'Angular and papaParse Integration',\n",
              " 'Setup a graylog2 server with elasticsearch in a vagrant machine',\n",
              " '(Solved-See my comment)How to make a password form on tumblr?',\n",
              " 'Javascript: Call a method inside another method',\n",
              " 'aws api gateway client-side ssl certificate verification with nginx',\n",
              " 'Kendo UI drop downs posting arrays',\n",
              " 'ServiceStack Identity on field other than PK - Insert fails',\n",
              " 'Redirection when rendering controller in twig SYMFONY 302',\n",
              " 'CSS Sprites Bottom repeating',\n",
              " 'How can I sort a table of Laravel Eloquent objects by a custom attribute?',\n",
              " 'Comparing elements in a generic list',\n",
              " 'Set minDate for Bootstrap DateTimePicker from another',\n",
              " 'What is the difference between :g and :%s commands in vim',\n",
              " 'Java: creating self extracting jar that can extract parts of itself out of the archive?',\n",
              " 'set html text color and size using javascript',\n",
              " 'Queue using Arrays',\n",
              " 'foreach loop when using Xml.XmlElement in remote scriptblock',\n",
              " 'How to print list of categories and click on each category one by one in selenium/appium?',\n",
              " 'Every now and then, ABCpdf runs out of memory',\n",
              " 'In Spring OAuth2, why is my resource still unprotected even though I have marked it in my resource server?',\n",
              " 'how to restart node application automatically on aws elastic-beanstalk',\n",
              " 'Unresolved external symbol LNK2019',\n",
              " 'Celltemplate in angular-ui-grid is not working properly',\n",
              " 'Escaping backslashes in method call stringByReplacingOccurrencesOfString Does not work in Objective C',\n",
              " 'APEX Data Loading - Add a column programatically',\n",
              " 'MySQL / MariaDB shuts down after exactly 1 minute 42 seconds',\n",
              " 'Mouse movement / mouseover and JavaScript evaluation in watir',\n",
              " 'Removing backslashes from a string in Python',\n",
              " 'Array manipulation (accessing specific bytes)',\n",
              " 'Rails: Does Application.css load all css.scss files?',\n",
              " 'LongListSelector cannot change ItemsSource',\n",
              " 'C# DateTime not recognising timezone change (BST)',\n",
              " 'deinit in child view controllers',\n",
              " 'How to send back to custom class which object of that class was clicked',\n",
              " 'delete from array returning self',\n",
              " 'MS Access Properties',\n",
              " 'UIWebView always add a parameter in url issue',\n",
              " 'comparing two spanned strings in edittext in android',\n",
              " 'Add prefix to control id and still have it bind MVC Razor',\n",
              " 'EXC_BAD_ACCESS when setting Integer to anything else than zero',\n",
              " ':hover CSS is not working?',\n",
              " 'Blowfish last block incomplete in decryption',\n",
              " \"Reading uploaded image: undefined method `file' for nil:NilClass\",\n",
              " 'How can I run IntelliJ IDEA on a remote desktop',\n",
              " 'How to get the JSONObject server response in Volley',\n",
              " 'Guide in organizing large Django projects',\n",
              " 'how to populate a dropdownlist based on another dropdownlist selected value in mvc 4?',\n",
              " 'Azure ServiceBus Token Expired',\n",
              " 'iBatis to MyBatis migration efforts?',\n",
              " 'Where should I look for the document generated using htp package',\n",
              " \"Tortoise SVN Error after update: 'The specified path has an unexpected status'\",\n",
              " 'Extract html data after logging into website from android app',\n",
              " 'Add key value to array without triggering an array',\n",
              " 'How to write this math equation into c++',\n",
              " 'Undefined index php mysql error',\n",
              " 'when text changed inputbox automatically updates next 6 text boxes',\n",
              " 'Unable to get email of facebook user',\n",
              " 'iphone: Facebook logout feature is not work in my app',\n",
              " 'how to force my app NOT to use the 3g data proxy setting',\n",
              " 'Unit Testing - What do you do when your code is pretty much just a calculation (GetHashCode for example)?',\n",
              " \"Status of CheckBox can't be detected\",\n",
              " 'Sort a list with multiple conditions Ruby on Rails',\n",
              " 'How to sharp the text in css3?',\n",
              " 'How to change the class of an object dynamically in C#?',\n",
              " 'Creating an Array with a Default Value,But the default value is changed',\n",
              " 'How to call a delegate\\'s function without getting the \"instance method not found\" warning in ios?',\n",
              " 'Android, background drawable appear black in genymotion but looks fine in intellij',\n",
              " 'Table has no columns using google charts',\n",
              " 'Dropdown list where options populate a second list js/php?',\n",
              " 'difference between <% and <%= ruby',\n",
              " 'How to remove the functionality of changelist filter appearing in django admin?',\n",
              " 'how to unpack stxetx data in python',\n",
              " 'Ansible: playbook calling Role in a directory that is in the roles directory',\n",
              " 'Setting up HTTPS redirects on Heroku Laravel Instance',\n",
              " \"Input helper valueBinding is deprecated - what's the alternative?\",\n",
              " 'Using MySQL.connector with Twisted Python to execute multiple queries',\n",
              " 'MySQL - 1 large table with 100 columns OR split into 5 tables and JOIN',\n",
              " \"neo4j load csv when field name has a '.' in it\",\n",
              " 'Mocha + React: navigator is not defined',\n",
              " 'semantic ui grid - display full width of column, after \"computer only\" columns is hidden',\n",
              " 'populating select menu options using javascript',\n",
              " 'Serializing MongoDB find() return into non-anonymous JSON array, using PyMongo',\n",
              " 'Geom tile white space issue when the x variable is spread unevenly accross facet grids',\n",
              " 'Moving files depending on the profile in a WAR',\n",
              " \"Check if it's the last record in sqldatareader\",\n",
              " 'Assigning to columns in NumPy?',\n",
              " 'Android Facebook ApiException: Invalid Application',\n",
              " 'Django: customizing the message after a successful form save',\n",
              " 'Custom TextBox with built-in Validator: server side validation not firing',\n",
              " 'How to embed mjpeg file on a webpage',\n",
              " 'php delete on jQuery doesnt work',\n",
              " \"AWK doesn't work in Bash Script\",\n",
              " 'Launch specific app when external accessory attached',\n",
              " 'Three Inputs in a Row - Bootstrap 3',\n",
              " 'How compiler like GCC implement acquire/release semantics for std::mutex',\n",
              " 'Framework search for upcoming project',\n",
              " 'Implementing a Web Service Server in Windows CE 2013',\n",
              " 'Why do I keep getting \"The digital signature of the object did not verify\" for Windows JavaEE installer',\n",
              " 'hide paging numbers in gridview?',\n",
              " 'How to remove sublayers from a view afer a touch',\n",
              " 'CUDA: Can i find out if i have global memory coalescence?',\n",
              " 'How to read a google chrome crash dump with windbg',\n",
              " 'jQuery targeting nested list',\n",
              " 'pass the column value when checkbox is clicked in wijmogrid column',\n",
              " \"How to normalize your database in hibernate? (Repeating values don't get saved again and again)\",\n",
              " 'how to stop validation on a particular textbox after hiding this textbox using angularjs',\n",
              " 'opencv imshow with waitKey too slow on Mac OS X 10.10.2 (using c++)',\n",
              " 'Setting an Input Box Background',\n",
              " 'IntelliJ IDEA: \"Element ignore is not allowed here\"',\n",
              " 'Slider does not work in the jQuery Tabs',\n",
              " 'Carrierwave getting image width and height and storing it in an hstore field',\n",
              " 'OpenProcess() succeeds, but EnumProcessModules() fails',\n",
              " 'Django + Forms: Dynamic choices for ChoiceField',\n",
              " 'using Url.Content to display the file content with .net mvc',\n",
              " 'PDO cannot able to fetch image from database',\n",
              " 'error in adding overlay in current location',\n",
              " 'Internal section link fails in beamer output of pandoc markdown',\n",
              " 'Adding ROW_NUMBER() to query loses DISTINCT, defeats the purpose of paged results attempt',\n",
              " 'android studio 135.1339820 launches wrong java version on openSuse 12.3',\n",
              " 'My Facebook object is empty',\n",
              " 'Java code reads UTF-8 text incorrectly',\n",
              " 'PHP session.cookie_secure does not actually set the cookie to secure',\n",
              " 'Using webapp2, how can I get the value of a form\\'s \"name\" attribute during a POST request?',\n",
              " 'Finding Uppercase Character then Adding Space',\n",
              " 'Table data pass into stored procedure as param and insert into another table in mysql',\n",
              " 'Inject entry point class in GWT with GIN',\n",
              " 'How to group by week of the year dates or day dates that start on Sundays in oracle 10?',\n",
              " 'What are the options Some and None SML?',\n",
              " 'Reversing a .mp3 programmatically',\n",
              " 'Convert Associative Array in PHP and insert it to database',\n",
              " 'Why is the \"map\" version of ThreeSum so slow?',\n",
              " 'ant keeps recompiling',\n",
              " 'HttpContext.Current.User.Identity.Name returns blank',\n",
              " 'UIWebView Javascript Window to Window Communication',\n",
              " 'Fluent NHibernate Exception: An association from the table X refers to an unmapped class: System.String',\n",
              " 'Are .NET memcache libraries production ready?',\n",
              " \"DB2 Can't connect to db with new user\",\n",
              " 'Django flatpages backup?',\n",
              " 'Trouble with Creating One-Time Calendar Event from Google Sheet row',\n",
              " 'The colored image turned to have no color and just a grey vector in drawable?',\n",
              " 'how to show pattern in asp-Repeater item template?',\n",
              " 'Fastest scripting language for Java?',\n",
              " 'Tried to reverse engineer my app, but got some weird-looking file tree',\n",
              " 'Startup for bundles placed in the deploy folder of Karaf',\n",
              " 'd3js force layout with hide/unhide on node click misplaces nodes after expanding',\n",
              " 'Unique column definition in SQL',\n",
              " 'Hash of a cell text in Google Spreadsheet',\n",
              " 'How to pin/unpin Microsoft Edge developer tools in Windows 10',\n",
              " 'Which editor can align tables in reStructuredText for Sphinx?',\n",
              " 'How to walk through a directory in c and print all files name and permissions',\n",
              " 'iOS KVC DRY mutation',\n",
              " \"IBM MobileFirst Platform iFix doesn't update the version displayed in Operations Console\",\n",
              " 'relative layout aligning images about right bottom corner',\n",
              " 'How to retrieve a PDF(document) from the Tridion File System and create a multimedia component out of it',\n",
              " 'HTML sends x y POST data with no inputs - how is this possible?',\n",
              " 'How can I view Azure logfiles when running locally?',\n",
              " 'is there a web service client code generator on iOS?',\n",
              " 'Get smallest type to include data range',\n",
              " 'Get dates as check if it is ending',\n",
              " 'Cordova brightness still returns -1',\n",
              " 'How to detect 3 keyboard buttons in Swing?',\n",
              " 'Python calculations in two groups',\n",
              " 'create array from mysql query php',\n",
              " 'TDD vs Defensive Programming',\n",
              " 'Display logo or image in the Ribbon using VSTO',\n",
              " 'How can I get a meaning of a jsp variable in java code on the same page?',\n",
              " 'Conversion of cloud data into 2d image using OpenCV',\n",
              " '[python-suds]Bug? One additional element is created when using Factory',\n",
              " 'Using clang to analyze C++ code',\n",
              " 'Login with email and password control not working',\n",
              " 'ansible: use different logging level for terminal and log file',\n",
              " 'Draggable window with pyqt4',\n",
              " 'dynamically adding edittext depending on the elements of json array',\n",
              " 'How to convert ftp.getModificationTime(file) to readable format',\n",
              " 'PHP Login Form using DashDB',\n",
              " 'Building a properties file to the top level of a WAR file, Spring-MVC/Maven',\n",
              " 'Enabling breakpoints in goclipse',\n",
              " 'error while including external JARs in ant script',\n",
              " 'Comparison of web widgets in flash and javascript',\n",
              " 'Why must I free this data? Am I the owner?',\n",
              " 'Optimizing a very huge mysql table (query or mysql)',\n",
              " 'tlbexp.exe outputs different tlb information on 2012 versus 2010',\n",
              " 'How to create a Facebook Like with a post/comment box',\n",
              " 'Codeigniter PDO integration',\n",
              " 'pass string array as parameter to asp.net mvc webapi method',\n",
              " 'Removing space in dataframe python',\n",
              " 'How to set application identity of an application pool using web administration module in powershell?',\n",
              " 'how to handle play database connection exceptions',\n",
              " 'querydsl 3.3.0 - using collection.any() with elementcollections in a query with N boolean arguments generates N \"exists\" sub-queries',\n",
              " 'Gson: Change the way Map-Keys are being serialized',\n",
              " 'Improving gnuplot 3d plots from data files with pm3d',\n",
              " 'Divide problem',\n",
              " 'Yii2: Using Kartik Depdrop Widget?',\n",
              " 'Can anyone post an example of how to enable SSL in Tsung?',\n",
              " 'MPI_Isend and MPI_Irecv seem to be causing a deadlock',\n",
              " 'Virtual Box port forwarding misery with Ruby Sinatra:4567 / Shotgun:9292',\n",
              " 'Enhancing regex to match more URLs',\n",
              " 'JavaScript classlist selector error',\n",
              " 'My IntelliJ IDEA 11.1.5 lost the ability to debug node.js applications after upgrading to windows 8.1',\n",
              " 'Scientific notation android java',\n",
              " 'How to make a JSON array case insensitive for Twitter Typeahead?',\n",
              " 'Membase can someone explain the idea behind their technology',\n",
              " 'Struts 2 + Dojo + Datetimepicker',\n",
              " 'Cannot retrieve data from find query',\n",
              " 'How long are resources used (file descriptor and memory) for Java temporary files (jar_cache####.tmp)?',\n",
              " 'how to pass a variable in WHERE IN clause of oracle sql?',\n",
              " 'How can I transform the coordinates of a Shapefile?',\n",
              " 'Mapping result of aggregate query to hibernate object',\n",
              " 'Drawing Application how to save drawing in android phone memory',\n",
              " 'Error while using npm install -g generator-jhipster',\n",
              " 'Get abs path from the currently edited file in Eclipse',\n",
              " 'Post form data to foreign aspx form',\n",
              " 'Logging in Azure web jobs',\n",
              " 'MTM with (automated) CodedUITest test-cases developed in VS2013 issues',\n",
              " 'How to print contents of an HTML element in MacGap?',\n",
              " 'ASP.NET Control not available in CodeBehind',\n",
              " 'How can I disable the IIViewDeck functionality momentarily?',\n",
              " 'Why would I create a struct with only a `PhantomData<()>` member?',\n",
              " 'Accessing masterpage properties from child pages in ASP.net VB',\n",
              " 'Bash read inside a loop reading a file',\n",
              " 'Random number between 1 and 20 excluding numbers already picked',\n",
              " 'Wordpress Navigation Label in Browser tab',\n",
              " 'Taking control of the soundCard with JAVA',\n",
              " 'STL containers and large amounts of data',\n",
              " 'Colour in Backorder Products dropdown based on stock in WooCommerce',\n",
              " 'Richfaces - <rich:autocomplete> not showing suggestions',\n",
              " 'How to select and enlarge a Masterpane in Zedgraph',\n",
              " 'react-native android publishing keystore',\n",
              " 'What is a good way to find a specific value in an XML document using C#?',\n",
              " 'Can i make my own Singleton Stateless Bean with EJB 3.0?',\n",
              " 'How does Google App Engine precompile Java?',\n",
              " 'Using dispose() method instead of close() method to a form',\n",
              " 'Spring Oauth2 \"Full authentication is required to access this resource\" with valid access token',\n",
              " 'Why is my code only displaying incorrect even if I have the right answer?',\n",
              " 'Forcing function in ODE',\n",
              " 'Get sum of column on last row, good practice?',\n",
              " 'Simple Karma + Typescript configuration - Reference Error: x is not defined',\n",
              " 'Error building Player because scripts have compile errors in the editor',\n",
              " 'Property Testers do not load despite forcePluginActivation. For popup menu enablement',\n",
              " 'Javascript regex to match last word regardless of specials characters',\n",
              " 'Develop multilangual system',\n",
              " \"angular-mock testing in Karma+Mocha can't find module\",\n",
              " 'How to append an element inside object using a common way',\n",
              " 'Generate random \"dark\" colours only in Java',\n",
              " 'Access element in list using indexes stored in another list',\n",
              " 'How to correctly use setq in elisp?',\n",
              " \"iOS - Today Extension 'show more' & 'show less' state incorrect. Collapsed says 'show less' - requiring multipule presses to fix\",\n",
              " 'how to get the position of the cursor in an editable div',\n",
              " 'flickering of image in SWT',\n",
              " 'Completely random identifier of a given length',\n",
              " 'Angular 2 Render Flat List from Hierarchal Data',\n",
              " 'Java RMI threads on client-side are executing sequentially or concurrently when calling the same remote object?',\n",
              " 'Variable-size buffer for receiving UDP packets',\n",
              " 'CreateSqlQuery on entity with formula property',\n",
              " 'Datepicker TIMESTAMP divide by 100',\n",
              " 'how to print out the whole table using anonymous block in pl sql?',\n",
              " 'In Sentora i will need to integrate a clamav Module',\n",
              " 'how do i set a value of a multiple <select> tag from the database',\n",
              " 'show decimal value in C#',\n",
              " 'Javascript: how to affect other element when hovering?',\n",
              " 'Creating new popup window when click button',\n",
              " 'How to Depict Either/Or Inheritance in a UML diagram?',\n",
              " 'Ajax post success data: Can you separate results?',\n",
              " 'Document.getElementById() not available for ChromiumWebBrowser in visual studio',\n",
              " 'target of assignment expands to non-language object',\n",
              " 'How do I configure distributed transactions for NServiceBus',\n",
              " 'How to combine an array of png images like layers using C#?',\n",
              " \"yii2 gii CRUD Generator error - Class 'Message' does not exist or has syntax error\",\n",
              " 'Get values of checkbox to other page',\n",
              " 'Session on subdomains still not working',\n",
              " 'How can I turn off host name resolutios?',\n",
              " 'syntax error, unexpected end-of-input',\n",
              " 'Erlang: \"extending\" an existing module with new functions',\n",
              " 'tcl string replacement',\n",
              " 'how to access directory in plesk (control panel )',\n",
              " 'Minimizing the sum of a special function over a list',\n",
              " 'VB.Net & Access - Set two foreign keys, that refer to the same table/field',\n",
              " 'Memory Monitoring Tool for Erlang Threads',\n",
              " 'Disable Spring Boot Security @Secured at runtime',\n",
              " 'Join two tables on the same date or closest date (before or after)',\n",
              " 'Power Point viewer asp.net mvc',\n",
              " 'Swift: Get an element from a tuple',\n",
              " 'images rotation to the right',\n",
              " 'Can I access the visual voicemail files on the iphone thru the SDK?',\n",
              " 'Proximity alert for locations saved at server',\n",
              " 'Tableviewcell button',\n",
              " 'Angularjs select does not mark matching model as selected',\n",
              " 'How can i use id to do action on an object of an android using Robotium tool?',\n",
              " 'How can i pass a value to constructors of collection of instances at runtime with simple injector?',\n",
              " 'Large binary shifts in 8086 assembly?',\n",
              " 'Directshow, format type change filter',\n",
              " 'How to open model window on option selection?',\n",
              " 'Update value in sqlite iphone sdk',\n",
              " 'Installing ADT plugin in Eclipse for Android development',\n",
              " 'Automating a ContextMenu with Watin',\n",
              " 'how to evaluate the performance of any cryptographic algorithm (say elliptic curve)?',\n",
              " 'Nth-child Selector with Prototype',\n",
              " 'Difference in performance of compiled accelerate code ran from ghci and shell',\n",
              " 'Database design for email messaging system',\n",
              " 'Java SE Development Kit 8u20 Install Options',\n",
              " 'Reading a file in chunks',\n",
              " 'Twitter style Web Application based on LAMP, Symfony2, Backbone : possible?',\n",
              " 'Regexp for C preprocessor command',\n",
              " 'Cmposition, I dont quite get this?',\n",
              " 'CakePHP form submits the \"array\"',\n",
              " 'Store feed forward network in mongodb',\n",
              " 'bash read strings and output as one key and multiple values',\n",
              " 'http client in python fails to recive',\n",
              " 'Dynamic languages - which one should I choose?',\n",
              " 'How to start an IntentService from a WakefulBroadcastReceiver',\n",
              " 'C++: Converting wstring to unsigned char',\n",
              " 'How to make echo interpret backslash escapes and not print a trailing newline?',\n",
              " 'AngularJS.. http.get working, when splitting into its own service module its no longer working',\n",
              " 'How do I determine the number of elements in an array reference?',\n",
              " '\"TypeError: \\'NoneType\\' object is not iterable\" on what should be a list',\n",
              " 'Replace random image on website',\n",
              " 'Rotation matrix between two camera system',\n",
              " 'Animated border which wraps around',\n",
              " 'cron job not picking up oracle query result',\n",
              " 'Formview and MS-Ajax UpdatePanel',\n",
              " 'How to update data with TreeStore or TreeEditor component?',\n",
              " 'Get kwargs passed to url_for in Flask view',\n",
              " 'how to reload the template when working with enlive without restar',\n",
              " 'Thread-safe get (accessor method)',\n",
              " 'How can I tell if \"inline\" worked?',\n",
              " 'calling some logic before user is logged out using spring security?',\n",
              " 'Java pattern to find two groups of two letters in `ABC`',\n",
              " 'MYSQL distincs entry of two columns even when switched',\n",
              " 'How Antlr creates tokens',\n",
              " 'Play Framework 2.4 - Java - Http header and cached response',\n",
              " 'List of Strings in a Grails domain class',\n",
              " 'Insert into MongoDB via Node.js',\n",
              " 'How to stop or pause Pandora and Spotify',\n",
              " 'Oracle Function: Replicate wm_concat',\n",
              " 'Return user to previous page after login (Rails)',\n",
              " 'Custom Layout Manager using predefined and developer-defined child view(s)',\n",
              " 'In Ruby, how do I specify a file in another directory as an input?',\n",
              " 'Unable to read View Bag value from controller to view',\n",
              " 'Parameters on time stamps in oracle sql developer',\n",
              " 'measuring the time to load a page - Python',\n",
              " 'Set height of child to height of parent',\n",
              " 'How can I find the element that caused another element to fire the focusout event?',\n",
              " 'How to get the latest created table in MySQL?',\n",
              " 'Better way to reference $scope in AngularJS',\n",
              " 'Sharing data between Elastic Beanstalk web and worker tiers',\n",
              " 'iOS certificate pinning with Swift and NSURLSession',\n",
              " 'Sharing UDP Data across apps (background/foreground or Split screen multitasking) in iOS',\n",
              " 'iPhone: Facebook logout feature does not working',\n",
              " 'AutoHotKey. Hotstrings and Auto-replace not working in Visual Studio 2008',\n",
              " 'Issue setting up Android SDK - Failed to Start Emulator',\n",
              " 'Why is the dismissable alert not being dismissed?',\n",
              " 'Error while executing change data capture sql query',\n",
              " 'multiple queries - Route.get() requires callback functions but got a [object Undefined]',\n",
              " 'How to attach custom element to shadow DOM in html web components in a secure way?',\n",
              " \"flash javascript don't work (Second try)\",\n",
              " 'How do EGit versions map to Git versions',\n",
              " 'How the ftp uploads works in PHP?',\n",
              " 'Sql XML to Delphi',\n",
              " 'Lookup table with the query with arbitrary length without using a for loop in R',\n",
              " 'C# XML deserialization XmlAttribute',\n",
              " 'CSS, JQuery: Animated transform from 3 lines menu to cross',\n",
              " 'Can m2e install an external jar file? Or do I need to install the maven command line tool?',\n",
              " 'Does gSOAP RESTful implementation require the definition of a WSDL',\n",
              " 'Automatically create an appointment in Outlook using message content',\n",
              " 'JSoup error: java.lang.IllegalArgumentException',\n",
              " 'Add Button to CMS_Page_Edit via Observer',\n",
              " 'How to do an XOR of the binary forms of all integer items in a list',\n",
              " 'How to add regularization in Scipy Linear Programming (Non-negative Least-Squares)',\n",
              " 'Highlight backgroung colors of some words in HTML Document in java',\n",
              " 'Is there a way to retrieve process stats using Perl or Python?',\n",
              " 'Excel NamedRange.Find Method with Regex pattern match in C#',\n",
              " 'cmake error when configuring',\n",
              " 'How to set first column to a constant value of an empty np.zeros numPy matrix?',\n",
              " 'Eclipse Plugin - get Launch Configurations Tree List in a Dialog.',\n",
              " 'What are the RESTful best practices on defining a query parameter with an or condition?',\n",
              " 'Extracting text from the input field - using Webdriver',\n",
              " 'One <hr> tag is working but not the other in Firefox. Why is that?',\n",
              " 'ajax request xml from php',\n",
              " 'Embedded Java server using Grizzly: How do you enable http2',\n",
              " 'Finding Minimum Completion Time of Scheduled Tasks with Topological Sort',\n",
              " 'How to set jQuery draggable min/max-left and min/max-right',\n",
              " 'semantic-ui modal size keeps extending to the height of a page',\n",
              " 'Is there any direct git command to push changes to another branch',\n",
              " 'How and is it worth to integrate Java Webapp + drools + Guvnor?',\n",
              " 'How to debug Error Messsage in Odoo',\n",
              " 'calculate differences between two numbers',\n",
              " 'Data constructor in template haskell',\n",
              " 'Tying composer.json to a specific Laravel 5 SHA',\n",
              " 'Django 1.7.1 requires a Default value for field - but no entry is in database. Why?',\n",
              " 'addEntriesFromDictionary: a true copy method?',\n",
              " 'Spring Boot OAuth2 with encrypted JWT access token',\n",
              " 'Wrap text if it is longer than max_characters',\n",
              " 'iptables: Duplicating/Forwarding ports',\n",
              " 'Multiple custom fields stored as meta_keys, how to connect with the post?',\n",
              " 'Android GridView crashes or is very slow on some devices (Samsung Galaxy S4, S3)',\n",
              " 'HTML/CSS: Input element weird indent ie7',\n",
              " 'What exactly does Double mean in java?',\n",
              " 'Most effective ways to extract Android Cursor (sqlite) into an array to be used in AlertDialog.Builder?',\n",
              " 'jenkins can not find android SDK',\n",
              " 'Can I open a new window and change the DOM of the calling window in JavaScript?',\n",
              " 'dynamically Change Itemized overlay draw circle using seek bar progress',\n",
              " 'How do I fix django.db.utils.IntegrityError: duplicate key value violates unique constraint?',\n",
              " 'Inno Setup not creating registry entry in Software/Microsoft/Windows/CurrentVersion/Uninstall',\n",
              " 'build from hadoop source code in centos',\n",
              " 'C# LinqToSql SubmitChanges() does not update, even though PK is set',\n",
              " 'How to read utf16 text file to string in golang?',\n",
              " 'Objective C ePub framework',\n",
              " 'Reducer output to different files based on keys',\n",
              " \"Is it possible for a Chrome Extension to get a user's full browsing history?\",\n",
              " 'Variable Number of Nested For Loops',\n",
              " 'Ordered http request parameters',\n",
              " 'Testing the Oracle to_date function',\n",
              " 'Getting the error of POST method from another PHP file',\n",
              " 'Multiple selection of worksheets into one workbook copy paste of content into one main sheet',\n",
              " 'Why do I keep getting \"developer inactive\" errors when calling the Beats Music API?',\n",
              " \"My select command doesn't work\",\n",
              " 'node js read files line by line',\n",
              " 'PHPStorm/Webstorm increase memory to more than 512MB',\n",
              " 'Want to open google.com at specific location and make it specific window size',\n",
              " 'Database not updating new row',\n",
              " 'Spring suite tools start error - spring boot',\n",
              " 'Slider in codenameone',\n",
              " 'Issue with $(this) and toggle() multiple classes',\n",
              " 'How to load file from dir using Racket?',\n",
              " 'Removing quotation mark using javascript does not remove single quotation marks',\n",
              " 'Firebase Android ChildEventListener Triggered onChildRemoved() before onChildAdded() When new data added',\n",
              " 'Python. Error using animation.FuncAnimation',\n",
              " 'How to make inline comments in Org-mode?',\n",
              " 'Find years with distinct digits - CCC 2013',\n",
              " 'Identify customer visits occurring after a given time period in mysql',\n",
              " 'Finding the distinct count from a cassandra column using Tableau',\n",
              " 'Prism : Change the active view',\n",
              " 'Get Color from int',\n",
              " 'Dynamic subversion repos via subdomains (in Apache)',\n",
              " 'How to multithread my for loop in Python',\n",
              " 'How to get recycler view list item count using Espresso',\n",
              " 'How to PIVOT and calculating column average',\n",
              " 'Fastest way to separate the digits of an int into an array in .NET?',\n",
              " 'Escaping special characters in SphinxSE',\n",
              " 'Importing sqlite file into r',\n",
              " 'Sort order of related products not working in Magento 1.6',\n",
              " \"Display 404 not found template for 'slugs' when publication returns empty cursor - Meteor - iron-router\",\n",
              " 'Is there a way to tell if an object has implemented ToString explicitly in c#',\n",
              " 'VFS: file-max limit 1231582 reached',\n",
              " 'Play 2.2 EssentialAction With Futures',\n",
              " 'AppBarLayout / CollapsingToolbarLayout expands indefinitely',\n",
              " 'how to deselect all Radio Button in Radio ButtonGroup on button click in flash as3?',\n",
              " 'numpy array creating with a sequence',\n",
              " 'Sed: Matching words with any permutation of two characters',\n",
              " 'Make Child element appear outside of parent',\n",
              " \"MobilePin createuserwizard doesn't work?\",\n",
              " 'Fit Image in canvas using WPF',\n",
              " 'Adding a fontawesome icon with border into form input',\n",
              " 'finding pixel location of Listview item seems to return wrong value',\n",
              " 'sails 0.9.8 not work, when created controller and lift it',\n",
              " 'Larave File not found at path but it does exist',\n",
              " 'RequiredFieldValidator causes validation on Server even if validator is disabled(CausesValidation=\"false\")',\n",
              " 'Retrieving HTML content from a page requiring authentication using PHP',\n",
              " 'How to generate linked-axis in matplotlib',\n",
              " 'Print % sign with string formatting',\n",
              " 'How to calculate the dimensions of the monitor in PyQt4/Windows/Linux?',\n",
              " 'VBA Outlook 2010 retrieving information from Active Directory',\n",
              " 'Modifying bootstrap thumbnails',\n",
              " \"ASP.Net: What's keeping old AppDomains alive?\",\n",
              " 'A library uses the same package as this project after importing Facebook SDK',\n",
              " 'Unable to run compiled .classes from the command line',\n",
              " 'Is it possible to partially decode and update JSON? (go)',\n",
              " 'How to use Apache-Commons DBCP with EclipseLink JPA and Tomcat 7.x',\n",
              " 'How to do batch geocoding using google-maps-services-java',\n",
              " 'Inserting an img into a text field (html, css)',\n",
              " 'NoClassDefFoundError during Tomcat graceful shutdown',\n",
              " 'Indesign (IDML file) Automation using HTML5 and Javascript',\n",
              " 'Writing to the ObjectOutputStream and getting rubbish back',\n",
              " 'How do I stop md-cards from stretching images to full vertical height?',\n",
              " 'SQL, missing end, but why?',\n",
              " 'SED - Search two pattern in a line and insert few word at the end of the line if pattern match is found',\n",
              " 'How to configure & run multiple websites with respective databases with single Laravel code instance',\n",
              " 'three.js CanvasRenderer - setting initial color for object together with transparency textures',\n",
              " 'IHTMLDocument2 - click button inside iframe',\n",
              " \"Resource 1 works, 2 doesn't\",\n",
              " 'how to show an image in an image field by a button click event in c# asp.net',\n",
              " 'How to use this for killing array of threads?',\n",
              " 'MVC scaffolding does not support Entity Framework 6 or later',\n",
              " 'Parse error using Remotipart',\n",
              " 'JAVA JAX-WS Deployment (JAVA Eclipse EE IDE)',\n",
              " 'kaminari and order_by',\n",
              " 'multisampling and fragment shader',\n",
              " 'C program- change char order in sentence',\n",
              " 'How to reload an IFrame every x seconds?',\n",
              " 'EF6 table per hierarchy, with unique index on derived property',\n",
              " 'Shell Script to add extension on file and directory',\n",
              " 'Absolute beginners guide to working with audio in C/C++?',\n",
              " 'Extract part of string',\n",
              " 'stopping toast android in other actvity',\n",
              " 'Client-side SSL not working with AWS API Gateway',\n",
              " 'Top Left Menu Bar Is Frozen when Main Window Shows Up',\n",
              " 'Category Axis Label Alignment for Multi Series bar chart in JAsper',\n",
              " 'Invalid Label - jQuery Ajax/Json request',\n",
              " 'Optimizing Haskell Recursive Lists',\n",
              " 'Symfony3: Service not able to get arguments',\n",
              " 'Reverse Geocoding not displaying info window on markers when clicked',\n",
              " 'How to restrict background click in Ionic confirmation popup',\n",
              " 'how to use CSPARQL-ReadyToGoPack-0.9 in a SBT project',\n",
              " 'How to sort UTF-8 lines in Vim?',\n",
              " 'How to handle NotFoundException elegantly in Neo4j 2.0?',\n",
              " 'Download multiple files simultaneously with PHP - Forking, Sockets',\n",
              " 'Submit form on one server, process it and then post results to another domain',\n",
              " 'Flyway Mysql multiline comment directive not parsed',\n",
              " 'Non-Blocking File Reads',\n",
              " 'ORACLE sql dynamic variables in stored procedure',\n",
              " 'nested ngFor with two data classes in angular2',\n",
              " 'Crossplatform webview in Qt5.6',\n",
              " 'Set the default encoding to UTF-8 for all JSPs without using @page directives',\n",
              " 'XSLT creating a table with varying amount of columns',\n",
              " 'how to send email with powershell',\n",
              " 'Asynchronous method using .Result',\n",
              " 'Is JENKINS Extensible Choice Parameter compatible with linux?',\n",
              " 'Starting Speech Recognition with CreateProcess() in C++',\n",
              " 'How do I animate adding subviews?',\n",
              " 'How can I change the default font for a Jekyll website',\n",
              " 'Impossible to compile Fortran code with include statement',\n",
              " 'Lazy loading images in Vue/Laravel',\n",
              " 'Web API read header value in controller constructor',\n",
              " 'Android wear WearableListView ImageView selector',\n",
              " 'Function pack() returns 0',\n",
              " 'Is it possible to have Firebase authentication via Facebook in a Phonegap App?',\n",
              " 'PHP Export MySQL to CSV - Results showing HTML',\n",
              " 'How to detect language preference in Laravel 5',\n",
              " 'VB WebBrowser click button',\n",
              " 'Reports using java collections',\n",
              " 'How to write all files Contain in the subfolders and in the folders in to a .txt file',\n",
              " 'Checking negative values from Google Forms',\n",
              " 'Libgdx reading json array values',\n",
              " 'Custom Buddypress Notification on Post Save',\n",
              " 'UITableView with UITextField - keep the data even after user scrolls',\n",
              " 'Visual Studio 2015 Update 1 automatically checks in files',\n",
              " 'Mobilefirst Failed synchronizing application from the administration service',\n",
              " 'Cannot execute for loop in vue.js',\n",
              " 'how to prevent duplicate item',\n",
              " 'Java Apache CLI OptionBuilder not working as Builder pattern',\n",
              " \"What's a proper way to turn off genymotion emulator?\",\n",
              " 'Jade select field populating data',\n",
              " \"Why is ' 2' > '10'?\",\n",
              " 'Mysql dump comments directives and simple comments',\n",
              " 'Cropping library not working on Nexus S',\n",
              " 'Create a segue and attach it between two view controllers through Swift?',\n",
              " 'Function to search recursively for patterns in vim',\n",
              " 'Integrating wordpress and laravel user management',\n",
              " 'Behaviour after takePicture() different on different devices/Android versions',\n",
              " 'Exporting Plone content: how to get the tarball created by quintagroup.transmogrifier.writer',\n",
              " 'Cassandra to Hive using Spark',\n",
              " 'Ruby on Rails :before_filter => :only_when_user_is_logged_in',\n",
              " 'How can I integrate Jacoco reports with SonarQube without using maven?',\n",
              " 'Can I use NSPredicate as key in a NSDictionary',\n",
              " 'Proxy Authentication Failed error',\n",
              " 'Could someone explain how to use the UpdateManager in TideSDK 1.3.1 Beta?',\n",
              " 'Properties - how to avoid code repetition',\n",
              " 'Pause/resume video recording using AVCaptureMovieFileOutput',\n",
              " 'Swift enum recursive associated value',\n",
              " 'How to grep particular string occurring multiple times',\n",
              " 'Hover map area sprite with jquery',\n",
              " 'Spark `LiveListenerBus` Exception is freaking me out',\n",
              " 'how to use pyplot.arrow or patches.Arrow in matplotlib?',\n",
              " 'Apache on Windows and Fiddler',\n",
              " 'how to pass the variable from api gateway to the url of another service running on EC2',\n",
              " 'Open link when doubleclicking on table row with jQuery',\n",
              " 'Wget span host only for images/stylesheets/javascript but not links',\n",
              " 'I am trying to show data using api . but data is not showing in custom listView . list is empty',\n",
              " \"Graphing sbt's incremental compilation logic\",\n",
              " 'how to get functionality of Long Press gesture in ios ver below 3.2',\n",
              " 'Change priority headings for a task with the api',\n",
              " 'Get values on a row based on two or more rows in Excel',\n",
              " 'Is using Silverlight a hindrance for Startups?',\n",
              " 'spotify session callback get_audio_buffer_stats',\n",
              " 'talend - specify jndi as datasource',\n",
              " 'Long data load time in Matlab',\n",
              " 'how can i change column width in base to content with vb.net and bootstrap?',\n",
              " 'Alternative to Microsoft.Practices.EnterpriseLibrary.Data',\n",
              " 'How to facet.pivot with spring-data-solr',\n",
              " 'Check empty output from fish function',\n",
              " 'pysolr update document with error',\n",
              " 'How to retrieve same column twice with different values of other column in same table',\n",
              " 'Updated: NodeJS - connect-keycloak middleware empty response error',\n",
              " 'Accordion open when page loads',\n",
              " \"Activity doesn't refresh after associated Broadcast Receiver's onReceive gets called.\",\n",
              " 'How do you detect DOCTYPE (Transitional or Strict) server-side in ASP.NET?',\n",
              " 'Firefox 9.0.1 Broke Internal Wiki Layout',\n",
              " 'onchange function in dropDownList yii2',\n",
              " 'play mp3 without default player',\n",
              " 'Convert SVG Data to SVG File that can be uploaded',\n",
              " 'Folder Picker for MS Word',\n",
              " \"Can't hide or close form after switching to another form\",\n",
              " 'How to ShellCode in linux with x64 processor.',\n",
              " 'How to set a specific timezone for windows CE By C#',\n",
              " 'Vagrant enters aborted state during apt-get update',\n",
              " \"attempting to make enter button 'clickable'\",\n",
              " 'ImageMagick Convert not generating correct color',\n",
              " 'Mybatis select with nested objects',\n",
              " \"My css height auto doesn't work\",\n",
              " 'D3 AngularJs Force Directed Graph',\n",
              " 'I want to add 30 days to mysql date row',\n",
              " 'How I can use FlexyPool with HikariCPFactory?',\n",
              " 'Wix installer: Verify that you have sufficient privileges to start system services',\n",
              " 'r, ts - error in stl, series has less than two periods (erroneous?)',\n",
              " 'typo3 - Adding content to the footer',\n",
              " 'Knockout re render template with new data model on change event of dropdown menu',\n",
              " '@ManyToMany relation not save',\n",
              " 'Downsampling of fMRI image with FSL',\n",
              " 'How to use Android AutoCompleteTextView on Xamarin.Forms',\n",
              " 'Why fstream::tellg() return value is enlarged by the number of newlines in the input text file, when file is formated for Windows (\\\\r\\\\n)?',\n",
              " 'Determine If Two Points Are Near',\n",
              " 'clicking logo on home page breaks navigation menu on mobile site',\n",
              " 'Use Iframe to embed csv and allow user to search from it',\n",
              " 'Install Chrome extension through windows registry',\n",
              " 'Display message on success does not work',\n",
              " 'jQuery masked input - format date as m/d/yyyy or m/dd/yyyy or mm/dd/yyyy or mm/d/yyyy',\n",
              " 'How to change spring session (redis) cookie name?',\n",
              " 'Any tool to suggest unit reference automatically for Delphi 2010?',\n",
              " 'Why does my method return a null password?',\n",
              " 'SQL Script - manipulate value based on previous non zero value',\n",
              " 'rotate image shows \"Out of memory\" exception',\n",
              " 'count button clicks',\n",
              " 'Joomla Custom Compoment Dev Env : Hot Deployment',\n",
              " 'Nexus 5 not showing on connected devices',\n",
              " 'How work the method TrueForAll? C# LINQ',\n",
              " 'PHP - Simplest Way to Post & Display',\n",
              " 'Update Temp Table with Group By',\n",
              " 'How to use Parse Push with Cordova, Appcelerator, etc',\n",
              " 'AS3 bitmapdata send to server picture is small in upperleft corner',\n",
              " 'How to set the Z order index for adorner in WPF',\n",
              " 'php microseconds',\n",
              " 'Creating a global database connection on an mdi form',\n",
              " 'Uncaught ReferenceError: React is not defined',\n",
              " 'VBA search column for strings and copy row to new worksheet',\n",
              " 'How can I record a test using Espresso without doing a clean install?',\n",
              " 'How can I char array in reverse order?',\n",
              " 'What kind of SCTP support is there on various Windows versions?',\n",
              " 'Saving changes to an EC2 instance without having to register an AMI each time?',\n",
              " 'Auto run Jetty on boot',\n",
              " 'How To Cache jQuery Template In Backbone View via Ajax?',\n",
              " 'Does this C++ static analysis rule make sense as is?',\n",
              " 'Same Ripple drawable(effect) appearing differently on ListView and RecyclerView',\n",
              " 'R ggplot2 assigning colours to a factor',\n",
              " 'Verifying a method was called without using IoC',\n",
              " \"What is 'seg cs' in bootsect.s\",\n",
              " 'setTimeout keeps firing',\n",
              " 'Formatting the way a string is entered into my database',\n",
              " 'Creating Jenkins Job using python API',\n",
              " 'python create single thread to do one task then quit',\n",
              " 'z order in issue in ConstraintLayout Android',\n",
              " 'Can I derive from a class that can only be created by a \"factory\"?',\n",
              " 'PHP OOP :: passing session key between classes',\n",
              " 'ASP.NET MVC 3, SQL Server',\n",
              " 'Recreating or deleting google services json',\n",
              " 'Probe problem when writing a I2C device driver',\n",
              " 'Jersey produce duplicate log messages',\n",
              " 'Exit / stop Array2D.initBased early',\n",
              " 'how to set array of date to fireDate in local notification at a time',\n",
              " 'alternative to async: false ajax',\n",
              " 'Oracle: how to get percent of total by a query?',\n",
              " 'How to match the recursive pattern `a(?R)b` including another string e.g. \"test{aaabbb}\"? (Regex)',\n",
              " 'How to disable GestureListener?',\n",
              " 'How to specify Code Style settings in a Qt Creator `.pro.shared` file?',\n",
              " 'cal extension template modification with .tmpl',\n",
              " 'Getting started with Groovy/Grails?',\n",
              " \"Opening a Ruby program's source file in the default editor\",\n",
              " 'How can I pass an array of Guid via Web API?',\n",
              " 'Backbone-Relational find or load?',\n",
              " \"what's the best way to format an xml string in ruby?\",\n",
              " 'Partial classes in Google Closure?',\n",
              " 'Add a repository in AccountController',\n",
              " 'Wikipedia API Autocomplete with Json',\n",
              " 'Apache Pig: unable to run my own pig.jar and pig-withouthadoop.jar',\n",
              " 'Optimizing list comprehension to find pairs of co-prime numbers',\n",
              " 'kivy access child id',\n",
              " 'Stucture values not staying, values changed to -858993460',\n",
              " 'Set toolbar title',\n",
              " 'How to add a row to a table using swt',\n",
              " 'jQuery ui selectmenu vertical position offset (relatively to buttons in this line)',\n",
              " 'SSIS : Warning: Failed to decrypt an encrypted XML node',\n",
              " 'gps not getting user location',\n",
              " 'Exporting a simple model with texture from Blender to three.js',\n",
              " 'Postman - Required MultipartFile parameter is not present - Spring, Java',\n",
              " 'Prevent akka actor from restarting child actor',\n",
              " 'UITableView not loaded',\n",
              " 'NTFS permission with modify date',\n",
              " 'QTreeView - how to tell if a drag/drop event is a reorder or a move between parents?',\n",
              " 'Prevent XUL notificationBox from closing when button is hit',\n",
              " 'Code not working. Notification that should go off once a day',\n",
              " 'Android Action Bar Button does not show up',\n",
              " '$.widget is not a function',\n",
              " 'jquery hide not taking parameter',\n",
              " \"How can i use a one form/table for multiple MVC's?\",\n",
              " 'MSTest: execution order of tests within the same TestClass',\n",
              " 'How to call jQuery function in HTML returned by AJAX',\n",
              " 'OAuth2 security considerations for client_id',\n",
              " 'Google Compute Instance 100% CPU Utilisation',\n",
              " 'Incompatible block pointer type when returning array?',\n",
              " 'Calling a REST api with an encrypted PEM client certificate',\n",
              " 'Select all objects in a list',\n",
              " 'Drag and insert div into another div',\n",
              " 'How to prevent firefox from scrolling to the bottom of the page when a large popup is opened',\n",
              " 'How to handle ((List<string>)Session.Add(\"\")',\n",
              " 'mysql inserting into 2 tables at once that have primary key and foreign key',\n",
              " \"What's the right way to remove multiple items from a QTableWidget?\",\n",
              " \"When MSTest fails in TestInitialize, why doesn't TestCleanup get executed?\",\n",
              " 'PHP CodeIgniter application not opening any page except default controller',\n",
              " 'Parsing JSON data without quotes with jQuery',\n",
              " 'Rewrite url in .htaccess',\n",
              " 'I/O error(socket error): [Errno 111] Connection refused',\n",
              " 'Git Error; RPC failed; result=22, HTTP code = 401',\n",
              " 'TFS 2010 - Set the State field to a certain value',\n",
              " 'ActionScript 3.0 How to create ProgressEvent instances in for loop with multiple files loaded from XML',\n",
              " 'how can i extract my query to find average',\n",
              " 'C# Windows Service - Default Arguments on Install',\n",
              " 'Upload large files with node js',\n",
              " 'Changing table headers in cakephp',\n",
              " 'hello world with JMS on Glassfish',\n",
              " 'Countdown timer using DateTime.Parse without defined date',\n",
              " \"Images in the 'drawable' folder are resized automatically?\",\n",
              " 'Find files with the same size and dellete all duplicates except the one has the shortest name using shell script',\n",
              " 'Writing Rules both in Firebase and in your Code',\n",
              " 'Search for words with specific starts and endings',\n",
              " 'Install Neo4j 3.0+ as a windows service',\n",
              " 'PHP convert 2 digit year to a 4 digit year',\n",
              " 'JSDoc auto-complete documentation in Eclipse is not working for Class.create()',\n",
              " 'Split a infix String to an array of String in java',\n",
              " 'Folder permissions in Azure web sites',\n",
              " 'Only have separators between UITableViewCells',\n",
              " 'Uncaught Syntax error, unrecognized expression: [object Object]',\n",
              " 'Need htaccess redirection',\n",
              " 'How to create this bootstrap carousel of iframes?',\n",
              " 'Doctrine2 - Get entity ID before flush',\n",
              " 'Xquery help sorted parent child relationship',\n",
              " 'How To Load Separate Pages In Android Gridview While Clicking Blocks or Items?',\n",
              " 'kineticjs rect fillText',\n",
              " 'is a query string with a / in it valid?',\n",
              " 'How to convert the BYTEARRAYS to NSString in objective -c',\n",
              " 'why is std::chrono::duration based on seconds',\n",
              " 'WCF REST Client Exception',\n",
              " 'Using UIBinder to create a Widget to go into a Dialog',\n",
              " 'OneDrive for Business :\"invalid_request\",\"error_description\":\"AADSTS90014: The request body must contain the following parameter: \\'grant_type',\n",
              " 'Are the any options for interfacing with the command prompt process from a .NET application other than the standard IO?',\n",
              " 'Adding data in the database using microsoft access and OleDb in C#',\n",
              " 'jQuery Ajax header not being passed',\n",
              " 'AngularJS: Multiple views with routing without losing scope',\n",
              " 'BackboneJS How to merge collections',\n",
              " 'Specflow :Could not load file or assembly TechTalk.SpecFlow, Version=2.2.0.0',\n",
              " 'Max byte calculated by System.Runtime.InteropServices.Marshal.SizeOf()',\n",
              " 'How can my application retrieve custom fields from a DocuSign transaction?',\n",
              " 'add active state to button in a button group',\n",
              " 'How to define clear range for pixel color',\n",
              " 'Roslyn VisualBasic.ScriptEngine doesnt recognize hostObject written on C#',\n",
              " \"Neither BindingResult nor plain target object for bean name 'categoryOptions' available as request attribute\",\n",
              " 'How to change Wicket behaviour on Page Expired',\n",
              " 'PHPUnit code coverage show 0% coverage',\n",
              " 'How to prove code correctness lemmas with the \"undefined\" constant',\n",
              " 'Visual Studio has insufficient privileges to debug this process. To debug this process, Visual Studio must be run as an administrator',\n",
              " 'WebApi EntitySetController using composite keys',\n",
              " 'How do I set up an OpenGL project using XCode 4.2 in C++?',\n",
              " 'Initialize static NSString at class level',\n",
              " 'Rich Text Editor inside Flux Form',\n",
              " 'Setting $PATH in xampp osx',\n",
              " 'How to extract data from html using PHP',\n",
              " 'How to get Current location using MapModule?',\n",
              " 'Excel VBA Syntax Errors & Compiling Issues',\n",
              " 'How to read Logback configuration file from path outside the war file?',\n",
              " 'jQuery ajax not getting every div elements',\n",
              " 'TCP Socket on JAVA - Any byte >= 128 is received as 65533',\n",
              " 'SqlBulkCopy keeps on throwing connection forcibly closed exception',\n",
              " 'Error sending to the following VALID addresses Jenkins',\n",
              " 'How to determine if a text has balanced delimiters?',\n",
              " 'How to flick through a deck of cards?',\n",
              " 'Selecting in SQLite Database Android',\n",
              " \"TSQL merge Incorrect syntax near ','\",\n",
              " 'Building Pocketsphinx On Android on Windows',\n",
              " 'Add background image in a div without empty space between div and footer',\n",
              " 'Include github project into wordpress plugin',\n",
              " 'django multivaluefield & multiwidget - compress and/or decompress not working',\n",
              " 'Android : Can i call my onresume() inside onpause().?',\n",
              " 'How to fit picture to absolute positioning modal window?',\n",
              " 'Redirect URL to PHP only if file does not exist with Nginx',\n",
              " 'Laravel 4 Exception: NotFoundHttpException',\n",
              " 'How To Start Using Kostache?',\n",
              " 'Assigned access application exits when Ctrl + Alt + Delete is pressed.',\n",
              " 'Circular dependency error when running migrations in Django 1.7c2',\n",
              " 'JavaFX setOnShown fires before window is visible',\n",
              " 'Flash Develop - Publishing',\n",
              " 'I want to use the variable I declared somewhere else but I cannot (simple sql query)',\n",
              " 'buttons are not displayed',\n",
              " 'Prevent Twitter responsive layout from collapsing when width < 320px',\n",
              " 'Show azure cost analysis data using Azure billing API/SDK',\n",
              " 'find the field names from a search query',\n",
              " 'OAuth 2.0 OpenID Connect Loopback and Keycloak',\n",
              " 'Windows Phone: How to retrieve the same photo from media library between application instances',\n",
              " 'Symfony2: determine if a controller is called from a development environment or from a production environment',\n",
              " 'When UITableView is fully reloaded',\n",
              " 'http.post(url, postData, options) does not set header',\n",
              " 'JSON stringify outputs empty object for not empty object',\n",
              " 'Display.syncExec not working inside Callable',\n",
              " 'XPath to first occurrence of element with text length >= 200 characters',\n",
              " 'Unable to push a docker image to local OpenShift Origin registry',\n",
              " 'SlideDown() using JavaScript not working as intended',\n",
              " 'Threading.Tasks Dispose meaning issue',\n",
              " 'VAL() function in JavaScript',\n",
              " 'Using php to send form to my email..Having an issue with 405 Not Allowed when form is submitted',\n",
              " 'Netty closeFuture().sync().channel(); blocks rest api',\n",
              " 'How to check if a specific button exists in Scrapy?',\n",
              " 'Remove logs from ORMLite Android',\n",
              " 'Language detection API/Library',\n",
              " 'Should I make 1 form for each upvote button or 1 form for all the buttons?',\n",
              " 'Eclipse GAE JDO 3.0',\n",
              " 'django-cms editors and HTML data attribute cleaned up',\n",
              " 'Xcode build error clang failed',\n",
              " 'setTimeout from a web worker',\n",
              " 'C# Populating a listview from a List',\n",
              " 'Javascript not working in django inline formset using urlify.js',\n",
              " 'PHP multi cURL performance worse than sequential file_get_contents',\n",
              " 'Converting PHP Contact Form to SMTP',\n",
              " 'How do I prevent the original method being called when mocking a class with PHPUnit?',\n",
              " 'Ensure footer will stick to bottom of page and flex with content',\n",
              " 'How to share files from any path using a FileProvider?',\n",
              " 'R: How to build sum of arrays third dimension containing NAs and returning a list?',\n",
              " 'Speeding up a strangely slow Rcpp function',\n",
              " 'How to create a service that sends/receives UDP broadcasts on multiple interfaces',\n",
              " 'Can someone tell me how to replace the following javascript code with a loop?',\n",
              " 'UIImageView layer border issue',\n",
              " 'COM object created by CComObject::CreateInstance not destroyed when pointer goes out of scope',\n",
              " 'Run 2 sql query with 1 query for save query result as .csv format',\n",
              " 'AWS Elastic Beanstalk Vs EC2 Container Service (ECS) - Docker',\n",
              " 'Connect to remote MongoDB instance from ASP.NET',\n",
              " 'Copying files with unicode names',\n",
              " \"ASP.NET Web application doesn't unload AppDomains after deploy\",\n",
              " 'Getting YouTube livestream URL',\n",
              " \"Can't use ToString() in LINQ to Entities query\",\n",
              " 'list comprehension to create list and for no-data value feed default value',\n",
              " \"JSX element type 'XXX' does not have any construct or call signatures\",\n",
              " 'Subroutine unexpectedly ends when a Workbook is closed',\n",
              " 'Creating a result set (using a select statement ) within a loop',\n",
              " 'Laravel 4.2 - Environment detection - homestead.yaml vs. start.php',\n",
              " 'Deploy a shell script with Ruby gem and install in bin directory',\n",
              " 'Change a string into an int',\n",
              " 'How do I stop a MySQL decimal field from being rounded?',\n",
              " \"Respecting argparse's privacy, vs. usability\",\n",
              " 'Very simple Web Service in Python',\n",
              " 'Emoji and UIWebView in iOS 5',\n",
              " 'Getting IOError: [Errno Invalid number of channels] -9998 when using mic with PyAudio on Raspberry Pi',\n",
              " 'Mono on Mac OS X - Parallel HTTP Downloads limited to 2',\n",
              " 'Delete files, directories and buckets in amazon s3 java',\n",
              " 'Android: Saving form data on a swipe rather than from a button',\n",
              " 'No description or item name on PayPal Payment Received email',\n",
              " 'Code igniter with data mapper giving in valid json',\n",
              " 'Where can I find official / canonical documentation for using JavaScript with \"classic\" ASP?',\n",
              " \"BroadcastReceiver isn't working\",\n",
              " 'Array compare and count which has similar values and which not',\n",
              " \"How to cancel 'viewWillAppear' after UIImagePickerController is dismissed\",\n",
              " 'In Scala, is it possible to write a script which refers to another script',\n",
              " \"after reload page IE is not retaining it's scroll position\",\n",
              " 'SpringBoot multiple authentication adapter',\n",
              " 'SMTP Contact Form blank screen on Submit',\n",
              " 'Destroy all sessions but one',\n",
              " 'C# WIndows CE Compact Framework 2.0 Set System Timezone',\n",
              " 'Appropriate representation of a 2D game board in Clojure',\n",
              " 'Ionic emulate ios shows black screen',\n",
              " 'How update APi with AngularJS?',\n",
              " 'Javascript based redirect: will it hurt SEO?',\n",
              " 'What is the difference between these two SOAP requests?',\n",
              " 'Microsoft Access Report - How to cycle through all pages of a report in print view?',\n",
              " \"What does Actor[akka:\\\\\\\\play\\\\deadLetters].tell() mean in a New Relic's trace of a Play Framework 2.0 web transaction?\",\n",
              " 'JRuby 1.7.0 will not install bundler given plenty of memory',\n",
              " 'solr multiple tokenizers for query',\n",
              " 'Is it possible to pass an EJS variable to an Angular ng-repeat filter?',\n",
              " 'How To Read Data using Ip Address',\n",
              " 'SSIS XML Decryption Message',\n",
              " 'Detecting selection change on a UITextView?',\n",
              " 'Different CSS background-image depending on month and year',\n",
              " \"What's the equivalent averageifs for standard deviation?\",\n",
              " 'Segmentation faults using f2py',\n",
              " ...]"
            ]
          },
          "metadata": {},
          "execution_count": 21
        }
      ]
    },
    {
      "cell_type": "markdown",
      "metadata": {
        "id": "kaOQblBy6j3M"
      },
      "source": [
        "Размер нескольких первых строк"
      ]
    },
    {
      "cell_type": "code",
      "metadata": {
        "id": "yRx6e-Pe6j3M",
        "colab": {
          "base_uri": "https://localhost:8080/",
          "height": 0
        },
        "outputId": "866d4b5d-aa57-46cc-fc7e-2433edfbd9f3"
      },
      "source": [
        "for i in range(5):\n",
        "    print(i + 1, len(validation_data[i]))"
      ],
      "execution_count": 22,
      "outputs": [
        {
          "output_type": "stream",
          "name": "stdout",
          "text": [
            "1 1001\n",
            "2 1001\n",
            "3 1001\n",
            "4 1001\n",
            "5 1001\n"
          ]
        }
      ]
    },
    {
      "cell_type": "markdown",
      "metadata": {
        "id": "ySQQp0oQt1Ep"
      },
      "source": [
        "### Ранжирование без обучения"
      ]
    },
    {
      "cell_type": "markdown",
      "metadata": {
        "id": "iElEDhj-6j3R"
      },
      "source": [
        "Реализуйте функцию ранжирования кандидатов на основе косинусного расстояния. Функция должна по списку кандидатов вернуть отсортированный список пар (позиция в исходном списке кандидатов, кандидат). При этом позиция кандидата в полученном списке является его рейтингом (первый - лучший). Например, если исходный список кандидатов был [a, b, c], и самый похожий на исходный вопрос среди них - c, затем a, и в конце b, то функция должна вернуть список **[(2, c), (0, a), (1, b)]**."
      ]
    },
    {
      "cell_type": "code",
      "metadata": {
        "id": "K02JARKr6j3T"
      },
      "source": [
        "from sklearn.metrics.pairwise import cosine_similarity\n",
        "from copy import deepcopy"
      ],
      "execution_count": 23,
      "outputs": []
    },
    {
      "cell_type": "code",
      "metadata": {
        "id": "1yP8wJWj6j3X"
      },
      "source": [
        "def rank_candidates(question, candidates, embeddings, tokenizer, dim=200):\n",
        "      \"\"\"\n",
        "          question: строка\n",
        "          candidates: массив строк(кандидатов) [a, b, c]\n",
        "          result: пары (начальная позиция, кандидат) [(2, c), (0, a), (1, b)]\n",
        "      \"\"\"\n",
        "      '''your code'''\n",
        "      most_candidates=[]\n",
        "      updated_most_candidates=[]\n",
        "\n",
        "      q_vec=question_to_vec(question,wv_embeddings,tokenizer)\n",
        "      for i in candidates:\n",
        "          can_vec=question_to_vec(i,wv_embeddings,tokenizer)\n",
        "\n",
        "          sim=cosine_similarity(can_vec.reshape(1,-1),  q_vec.reshape(1,-1))[0][0]\n",
        "\n",
        "          most_candidates.append((sim,i))\n",
        "      most_candidates.sort(key=lambda x: x[0],reverse=True)\n",
        "      for i in most_candidates:\n",
        "          updated_most_candidates.append((candidates.index(i[1]),i[1]))\n",
        "\n",
        "          \n",
        "      return updated_most_candidates"
      ],
      "execution_count": 24,
      "outputs": []
    },
    {
      "cell_type": "markdown",
      "metadata": {
        "id": "TnBszTb76j3c"
      },
      "source": [
        "Протестируйте работу функции на примерах ниже. Пусть $N=2$, то есть два эксперимента"
      ]
    },
    {
      "cell_type": "code",
      "metadata": {
        "id": "xvQgtP176j3h"
      },
      "source": [
        "questions = ['converting string to list', 'Sending array via Ajax fails'] \n",
        "\n",
        "candidates = [['Convert Google results object (pure js) to Python object', # первый эксперимент\n",
        "               'C# create cookie from string and send it',\n",
        "               'How to use jQuery AJAX for an outside domain?'],\n",
        "              \n",
        "              ['Getting all list items of an unordered list in PHP',      # второй эксперимент\n",
        "               'WPF- How to update the changes in list item of a list',\n",
        "               'select2 not displaying search results']]"
      ],
      "execution_count": 25,
      "outputs": []
    },
    {
      "cell_type": "code",
      "metadata": {
        "id": "bPj1JGFi6j3m",
        "colab": {
          "base_uri": "https://localhost:8080/",
          "height": 0
        },
        "outputId": "65cf82ff-6e55-464c-c2af-9fc809ebdeef"
      },
      "source": [
        "for question, q_candidates in zip(questions, candidates):\n",
        "        ranks = rank_candidates(question, q_candidates, wv_embeddings, tokenizer)\n",
        "        print(ranks, end=\"\\n\\n\")"
      ],
      "execution_count": 26,
      "outputs": [
        {
          "output_type": "stream",
          "name": "stdout",
          "text": [
            "[(1, 'C# create cookie from string and send it'), (0, 'Convert Google results object (pure js) to Python object'), (2, 'How to use jQuery AJAX for an outside domain?')]\n",
            "\n",
            "[(1, 'WPF- How to update the changes in list item of a list'), (0, 'Getting all list items of an unordered list in PHP'), (2, 'select2 not displaying search results')]\n",
            "\n"
          ]
        }
      ]
    },
    {
      "cell_type": "code",
      "metadata": {
        "colab": {
          "base_uri": "https://localhost:8080/",
          "height": 0
        },
        "id": "XSx2nNcb0Tps",
        "outputId": "f10f1131-4481-4356-e18f-cd98889248e0"
      },
      "source": [
        "for question, q_candidates in zip(questions, candidates):\n",
        "        ranks = rank_candidates(question, q_candidates, wv_embeddings, nltk_tokenizer)\n",
        "        print(ranks, end=\"\\n\\n\")"
      ],
      "execution_count": 27,
      "outputs": [
        {
          "output_type": "stream",
          "name": "stdout",
          "text": [
            "[(1, 'C# create cookie from string and send it'), (0, 'Convert Google results object (pure js) to Python object'), (2, 'How to use jQuery AJAX for an outside domain?')]\n",
            "\n",
            "[(1, 'WPF- How to update the changes in list item of a list'), (0, 'Getting all list items of an unordered list in PHP'), (2, 'select2 not displaying search results')]\n",
            "\n"
          ]
        }
      ]
    },
    {
      "cell_type": "markdown",
      "metadata": {
        "id": "jm4cidj56j3q"
      },
      "source": [
        "Для первого экперимента вы можете полностью сравнить ваши ответы и правильные ответы. Но для второго эксперимента два ответа на кандидаты будут <b>скрыты</b>(*)"
      ]
    },
    {
      "cell_type": "code",
      "metadata": {
        "id": "0LeKMIsn6j3s"
      },
      "source": [
        "# должно вывести\n",
        "results = [[(1, 'C# create cookie from string and send it'),\n",
        "            (0, 'Convert Google results object (pure js) to Python object'),\n",
        "            (2, 'How to use jQuery AJAX for an outside domain?')],\n",
        "           [(1, 'Getting all list items of an unordered list in PHP'), #скрыт\n",
        "            (0, 'select2 not displaying search results'), #скрыт\n",
        "            (2, 'WPF- How to update the changes in list item of a list')]] #скрыт"
      ],
      "execution_count": 28,
      "outputs": []
    },
    {
      "cell_type": "markdown",
      "metadata": {
        "id": "t1ttnIBe6j3x"
      },
      "source": [
        "Последовательность начальных индексов вы должны получить `для эксперимента 1`  1, 0, 2."
      ]
    },
    {
      "cell_type": "markdown",
      "metadata": {
        "id": "5WQgYDWd6j3y"
      },
      "source": [
        "#### Вопрос 5:\n",
        "* Какую последовательность начальных индексов вы получили `для эксперимента 2`(перечисление без запятой и пробелов, например, `102` для первого эксперимента?"
      ]
    },
    {
      "cell_type": "markdown",
      "metadata": {
        "id": "vusr_zGh72OP"
      },
      "source": [
        "Ответ: 102\n"
      ]
    },
    {
      "cell_type": "markdown",
      "metadata": {
        "id": "fPllOY-Y6j30"
      },
      "source": [
        "Теперь мы можем оценить качество нашего метода. Запустите следующие два блока кода для получения результата. Обратите внимание, что вычисление расстояния между векторами занимает некоторое время (примерно 10 минут). Можете взять для validation 1000 примеров."
      ]
    },
    {
      "cell_type": "code",
      "metadata": {
        "id": "Z3q9sxddz-yU"
      },
      "source": [
        "from tqdm.notebook import tqdm"
      ],
      "execution_count": 29,
      "outputs": []
    },
    {
      "cell_type": "code",
      "metadata": {
        "id": "nu7K4mis6j32",
        "colab": {
          "base_uri": "https://localhost:8080/",
          "height": 48,
          "referenced_widgets": [
            "0160a1fb01184c839386f6e74d6b1226",
            "71abc6c9f80842beb95be92c8e2273a5",
            "f19a90e7682e4917a7d461bc11be2e1a",
            "0098291f20a14e898eb91c56af89fe3e",
            "8daffd44eafb462a848402615f3b8476",
            "b39c0bbb43aa4cd1be28d1497d44fe83",
            "869910412ac94e48b0b0fd888cf49e1e",
            "af5c17a6c7a645ada4e0dbcb69317e4f",
            "c1a01ceae3c44555b3adfbbd646fa787",
            "33229bc120344f5891856e593ee6acec",
            "ecafeac4a6234faaa7bd54d4efcaca7c"
          ]
        },
        "outputId": "f2696fca-9ba8-4e27-fc5e-782bdf628a66"
      },
      "source": [
        "wv_ranking = []\n",
        "max_validation_examples = 1000\n",
        "for i, line in enumerate(tqdm(validation_data)):\n",
        "    if i == max_validation_examples:\n",
        "        break\n",
        "    q, *ex = line\n",
        "    ranks = rank_candidates(q, ex, wv_embeddings, tokenizer)\n",
        "    wv_ranking.append([r[0] for r in ranks].index(0) + 1)"
      ],
      "execution_count": 30,
      "outputs": [
        {
          "output_type": "display_data",
          "data": {
            "application/vnd.jupyter.widget-view+json": {
              "model_id": "0160a1fb01184c839386f6e74d6b1226",
              "version_minor": 0,
              "version_major": 2
            },
            "text/plain": [
              "  0%|          | 0/3760 [00:00<?, ?it/s]"
            ]
          },
          "metadata": {}
        }
      ]
    },
    {
      "cell_type": "code",
      "metadata": {
        "scrolled": true,
        "id": "gDtS520v6j35",
        "colab": {
          "base_uri": "https://localhost:8080/",
          "height": 160,
          "referenced_widgets": [
            "b0d1b1c0126b43729dcb797da2ade343",
            "f354ec07a74c412a9fa8320cd5427ec7",
            "e2617545fe4a4dba8b42fd2d70d78d49",
            "783ee6c612504179a607d78ef9855b46",
            "832ca20b0e184c6eb7ca6d5838fe0373",
            "8a10c763bddc4a7d93ffcba7f875a912",
            "26f942373ba746fc9f543ded05e92b99",
            "7a214f0fd59a4fa2b58a01617ffc145c",
            "9bcb2ee03de245c184149b78daacfb03",
            "b647fa634b084d83b3dd606f77e30d23",
            "6ad9048c52de4a3bbcf7718cf672ea48"
          ]
        },
        "outputId": "b9678641-5ccf-4ad0-de7f-35671b83b047"
      },
      "source": [
        "for k in tqdm([1, 5, 10, 100, 500, 1000]):\n",
        "    print(\"DCG@%4d: %.3f | Hits@%4d: %.3f\" % (k, dcg_score(wv_ranking, k), k, hits_count(wv_ranking, k)))"
      ],
      "execution_count": 31,
      "outputs": [
        {
          "output_type": "display_data",
          "data": {
            "application/vnd.jupyter.widget-view+json": {
              "model_id": "b0d1b1c0126b43729dcb797da2ade343",
              "version_minor": 0,
              "version_major": 2
            },
            "text/plain": [
              "  0%|          | 0/6 [00:00<?, ?it/s]"
            ]
          },
          "metadata": {}
        },
        {
          "output_type": "stream",
          "name": "stdout",
          "text": [
            "DCG@   1: 0.251 | Hits@   1: 0.251\n",
            "DCG@   5: 0.297 | Hits@   5: 0.339\n",
            "DCG@  10: 0.314 | Hits@  10: 0.395\n",
            "DCG@ 100: 0.362 | Hits@ 100: 0.626\n",
            "DCG@ 500: 0.391 | Hits@ 500: 0.851\n",
            "DCG@1000: 0.406 | Hits@1000: 1.000\n"
          ]
        }
      ]
    },
    {
      "cell_type": "markdown",
      "metadata": {
        "id": "LL6_Rjg3InL8"
      },
      "source": [
        "### Эмбеддинги, обученные на корпусе похожих вопросов"
      ]
    },
    {
      "cell_type": "code",
      "metadata": {
        "id": "iNvbpR5gJIPz"
      },
      "source": [
        "train_data = read_corpus('./data/train.tsv')"
      ],
      "execution_count": 32,
      "outputs": []
    },
    {
      "cell_type": "code",
      "metadata": {
        "colab": {
          "base_uri": "https://localhost:8080/",
          "height": 0
        },
        "id": "6MEyyQhHbsIw",
        "outputId": "8e48b695-4b44-4a72-c645-04199f5534a1"
      },
      "source": [
        "# Тут с лемматизацией\n",
        "\n",
        "import spacy\n",
        "nlp = spacy.load('en')\n",
        "\n",
        "quest=[' '.join([str(nlp(l[0])), str(nlp(l[1]))]) for l in train_data]\n",
        "len(quest)"
      ],
      "execution_count": 33,
      "outputs": [
        {
          "output_type": "stream",
          "name": "stdout",
          "text": [
            "1000000\n"
          ]
        }
      ]
    },
    {
      "cell_type": "code",
      "metadata": {
        "colab": {
          "base_uri": "https://localhost:8080/",
          "height": 0
        },
        "id": "WlBi8DHEuWXS",
        "outputId": "a356fcc7-5360-4b6b-8759-7cd102e49de5"
      },
      "source": [
        "quest=[' '.join([l[0], l[1]]) for l in train_data]\n",
        "len(quest)"
      ],
      "execution_count": 34,
      "outputs": [
        {
          "output_type": "execute_result",
          "data": {
            "text/plain": [
              "1000000"
            ]
          },
          "metadata": {},
          "execution_count": 34
        }
      ]
    },
    {
      "cell_type": "markdown",
      "metadata": {
        "id": "Nr281ZyEJfjT"
      },
      "source": [
        "Улучшите качество модели.<br>Склеим вопросы в пары и обучим на них модель Word2Vec из gensim. Выберите размер window. Объясните свой выбор."
      ]
    },
    {
      "cell_type": "code",
      "metadata": {
        "id": "3ZIb9KbP6nhl"
      },
      "source": [
        "words_nltk = [nltk_tokenizer.tokenize(q) for q in quest]"
      ],
      "execution_count": null,
      "outputs": []
    },
    {
      "cell_type": "code",
      "metadata": {
        "id": "RwNNZHFu6xgV"
      },
      "source": [
        "words_m = [tokenizer.tokenize(q) for q in quest]"
      ],
      "execution_count": 35,
      "outputs": []
    },
    {
      "cell_type": "code",
      "metadata": {
        "colab": {
          "base_uri": "https://localhost:8080/",
          "height": 0
        },
        "id": "8625fcK_1bI8",
        "outputId": "20d6361b-1f5b-468d-efa9-69c3081f0056"
      },
      "source": [
        "words_m[0]"
      ],
      "execution_count": 36,
      "outputs": [
        {
          "output_type": "execute_result",
          "data": {
            "text/plain": [
              "['converting',\n",
              " 'string',\n",
              " 'to',\n",
              " 'list',\n",
              " 'Convert',\n",
              " 'Google',\n",
              " 'results',\n",
              " 'object',\n",
              " 'pure',\n",
              " 'js',\n",
              " 'to',\n",
              " 'Python',\n",
              " 'object']"
            ]
          },
          "metadata": {},
          "execution_count": 36
        }
      ]
    },
    {
      "cell_type": "markdown",
      "metadata": {
        "id": "Q3l648Ur2bSQ"
      },
      "source": [
        "Еще замечание:\n",
        "Токенайзер, который тут был удаляет знаки и некоторые слова получаются связаны\n"
      ]
    },
    {
      "cell_type": "code",
      "metadata": {
        "id": "QuJzAM0cI-UH",
        "colab": {
          "base_uri": "https://localhost:8080/",
          "height": 0
        },
        "outputId": "99b52c2a-e6bc-4d17-e477-9ec4e337227a"
      },
      "source": [
        "%%time\n",
        "from gensim.models import Word2Vec\n",
        "embeddings_trained = Word2Vec(words_m, # data for model to train on\n",
        "                 size=200,                 # embedding vector size\n",
        "                 min_count = 5,             # consider words that occured at least 5 times\n",
        "                 window=12,\n",
        "                 workers=4).wv"
      ],
      "execution_count": 37,
      "outputs": [
        {
          "output_type": "stream",
          "name": "stdout",
          "text": [
            "CPU times: user 5min 8s, sys: 1.29 s, total: 5min 10s\n",
            "Wall time: 2min 47s\n"
          ]
        }
      ]
    },
    {
      "cell_type": "code",
      "metadata": {
        "id": "GGjHsj1b4DeR",
        "colab": {
          "base_uri": "https://localhost:8080/",
          "height": 0
        },
        "outputId": "1fc49edd-914a-466e-df32-6c663548ae41"
      },
      "source": [
        "embeddings_trained.index2word[:10]"
      ],
      "execution_count": 38,
      "outputs": [
        {
          "output_type": "execute_result",
          "data": {
            "text/plain": [
              "['to', 'in', 'a', 'How', 'the', 'of', 'with', 'and', 'from', 'on']"
            ]
          },
          "metadata": {},
          "execution_count": 38
        }
      ]
    },
    {
      "cell_type": "code",
      "metadata": {
        "id": "OQonbm4nMenD",
        "colab": {
          "base_uri": "https://localhost:8080/",
          "height": 48,
          "referenced_widgets": [
            "c3b1b519b96b4cb8812f514cad06ae11",
            "a5d3308b41674e64b7f8eb81faa308e6",
            "edd8a531c7ce41aebda5e415100800a6",
            "d5c90ea5552e485fb3dcfcb6ff263785",
            "0f18f6a70ccc4822bec8844bd8fb8b7c",
            "3c6d3f4eeb504bfd8fcf10ddac9a0e72",
            "8521710215714c29a07b13211e2a9006",
            "1b7c12e9d25d419981fb1039f6ee15ad",
            "6803b8e6bb5e443a96c7f5deb8a9f3eb",
            "1e02749b9e6942808cf004e47431ca08",
            "75706c149beb451b99f1d576e2cf553e"
          ]
        },
        "outputId": "4ae96fbf-45ff-4a54-a2fc-ec8eac4cc865"
      },
      "source": [
        "wv_ranking = []\n",
        "max_validation_examples = 1000\n",
        "for i, line in enumerate(tqdm(validation_data)):\n",
        "    if i == max_validation_examples:\n",
        "        break\n",
        "    q, *ex = line\n",
        "    ranks = rank_candidates(q, ex, embeddings_trained, tokenizer)\n",
        "    wv_ranking.append([r[0] for r in ranks].index(0) + 1)"
      ],
      "execution_count": 39,
      "outputs": [
        {
          "output_type": "display_data",
          "data": {
            "application/vnd.jupyter.widget-view+json": {
              "model_id": "c3b1b519b96b4cb8812f514cad06ae11",
              "version_minor": 0,
              "version_major": 2
            },
            "text/plain": [
              "  0%|          | 0/3760 [00:00<?, ?it/s]"
            ]
          },
          "metadata": {}
        }
      ]
    },
    {
      "cell_type": "code",
      "metadata": {
        "id": "3kahBUPGMgGR",
        "colab": {
          "base_uri": "https://localhost:8080/",
          "height": 160,
          "referenced_widgets": [
            "729814bdd58b43209efcc5b0209a0311",
            "cf9db340d5fd4c8fb0a1714de6b1e4e2",
            "4ef1b5dbbb9249f7a58ed12b60a878ca",
            "28e7d4ba2b3c4c4f956468b08d469458",
            "8b81bfee3ef14b668e27d361b81a189d",
            "203bcb4358094e5784bfd0468d603dc5",
            "4de43bb29a6547db8b008cb9fc77d420",
            "1f12c581adbf49599af34b4fd2236753",
            "692c332a28044857a75825d3e31c9e82",
            "3477b16789094d34aa26bc4f17128c8b",
            "fc1eae8259dd465ab2b73ddbab24dff2"
          ]
        },
        "outputId": "b9ba37ac-a640-4bf7-da7d-228589ce67ff"
      },
      "source": [
        "for k in tqdm([1, 5, 10, 100, 500, 1000]):\n",
        "    print(\"DCG@%4d: %.3f | Hits@%4d: %.3f\" % (k, dcg_score(wv_ranking, k), k, hits_count(wv_ranking, k)))"
      ],
      "execution_count": 40,
      "outputs": [
        {
          "output_type": "display_data",
          "data": {
            "application/vnd.jupyter.widget-view+json": {
              "model_id": "729814bdd58b43209efcc5b0209a0311",
              "version_minor": 0,
              "version_major": 2
            },
            "text/plain": [
              "  0%|          | 0/6 [00:00<?, ?it/s]"
            ]
          },
          "metadata": {}
        },
        {
          "output_type": "stream",
          "name": "stdout",
          "text": [
            "DCG@   1: 0.251 | Hits@   1: 0.251\n",
            "DCG@   5: 0.297 | Hits@   5: 0.339\n",
            "DCG@  10: 0.314 | Hits@  10: 0.395\n",
            "DCG@ 100: 0.362 | Hits@ 100: 0.626\n",
            "DCG@ 500: 0.391 | Hits@ 500: 0.851\n",
            "DCG@1000: 0.406 | Hits@1000: 1.000\n"
          ]
        }
      ]
    },
    {
      "cell_type": "markdown",
      "metadata": {
        "id": "TerYWFzB9rv5"
      },
      "source": [
        "1) my_tokenizer    DCG@   5: 0.427 | Hits@   5: 0.639  \n",
        "2) nltk_tokenizer  DCG@   5: 0.398 | Hits@   5: 0.542    \n",
        "3) default tokenizer  DCG@   DCG@   5: 0.297 | Hits@   5: 0.339"
      ]
    },
    {
      "cell_type": "code",
      "metadata": {
        "colab": {
          "base_uri": "https://localhost:8080/"
        },
        "id": "6jLX0M6vuvEj",
        "outputId": "732a1dc7-67af-4e4a-8e56-9a11e10530ab"
      },
      "source": [
        "# Удалим стоп слова\n",
        "import nltk\n",
        "nltk.download('stopwords')\n",
        "from nltk.corpus import stopwords\n",
        "\n",
        "stopWords = set(stopwords.words('english'))"
      ],
      "execution_count": null,
      "outputs": [
        {
          "output_type": "stream",
          "name": "stdout",
          "text": [
            "[nltk_data] Downloading package stopwords to /root/nltk_data...\n",
            "[nltk_data]   Unzipping corpora/stopwords.zip.\n"
          ]
        }
      ]
    },
    {
      "cell_type": "code",
      "metadata": {
        "id": "UTddkyh88noQ"
      },
      "source": [
        "# Модифицированный токенайзер\n",
        "class MyTokenizer:\n",
        "    def __init__(self):\n",
        "        pass\n",
        "    def tokenize(self, text):\n",
        "        # Не разделяем C+, C#\n",
        "        return [t for t in re.findall('\\w+[+#]*', text.lower()) if t not in stopWords]\n",
        "tokenizer = MyTokenizer()\n",
        "\n",
        "\n",
        "words_mn = [tokenizer.tokenize(q) for q in quest]"
      ],
      "execution_count": null,
      "outputs": []
    },
    {
      "cell_type": "markdown",
      "metadata": {
        "id": "tY8PxB0j-ThG"
      },
      "source": [
        "### Замечание:\n",
        "Решить эту задачу с помощью обучения полноценной нейронной сети будет вам предложено, как часть задания в одной из домашних работ по теме \"Диалоговые системы\"."
      ]
    },
    {
      "cell_type": "markdown",
      "metadata": {
        "id": "vymVj8IxO2PO"
      },
      "source": [
        "Напишите свой вывод о полученных результатах.\n",
        "* Какой принцип токенизации даёт качество лучше и почему?  \n",
        "    Модификация токенайзера, который был дан, дает лучшее качество, потому что там не теряются слова по типу C++, C#, плюс убираются стоп-слова.  Токенайзер из nltk работает хуже\n",
        "* Помогает ли нормализация слов?  \n",
        "    Нормализация (лемматизация из spcy) существенного прироста качества не дала, только дольше стало происходить обработка данных\n",
        "* Какие эмбеддинги лучше справляются с задачей и почему?  \n",
        "    Обученные эмбеддинги выдают примерно такое же качество как и предобученные, только немного лучше.\n",
        "* Почему получилось плохое качество решения задачи?  \n",
        "    Мы обучали на парах предложений, возможно, обучение на полноценных данных дало бы качество лучше. Возможно, использование других параметров для эмбеддинга, даст качество лучше\n",
        "* Предложите свой подход к решению задачи.  \n",
        "    Например предобученный эмбеддинг дообучить на наших данных, улучшить способ отбора нужных слов.\n",
        "\n",
        "## Вывод:\n"
      ]
    },
    {
      "cell_type": "markdown",
      "metadata": {
        "id": "emODHztAQUQz"
      },
      "source": [
        ""
      ]
    }
  ]
}